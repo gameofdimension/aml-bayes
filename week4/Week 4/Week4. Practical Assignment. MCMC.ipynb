{
 "cells": [
  {
   "cell_type": "markdown",
   "metadata": {},
   "source": [
    "# Using PyMC3"
   ]
  },
  {
   "cell_type": "markdown",
   "metadata": {},
   "source": [
    "In this assignment, we will learn how to use a library for probabilistic programming and inference called <a href=\"http://docs.pymc.io/\">PyMC3</a>."
   ]
  },
  {
   "cell_type": "markdown",
   "metadata": {},
   "source": [
    "### Installation\n",
    "Libraries that are required for this tasks can be installed with the following command (if you use PyPI):\n",
    "\n",
    "```bash\n",
    "pip install pymc3 pandas numpy matplotlib seaborn\n",
    "```\n",
    "\n",
    "You can also install pymc3 from source using <a href=\"https://github.com/pymc-devs/pymc3#installation\">the instruction</a>."
   ]
  },
  {
   "cell_type": "code",
   "execution_count": 1,
   "metadata": {},
   "outputs": [
    {
     "name": "stdout",
     "output_type": "stream",
     "text": [
      "Populating the interactive namespace from numpy and matplotlib\n"
     ]
    }
   ],
   "source": [
    "import numpy as np\n",
    "import pandas as pd\n",
    "import numpy.random as rnd\n",
    "import seaborn as sns\n",
    "from matplotlib import animation\n",
    "import pymc3 as pm\n",
    "from grader import Grader\n",
    "%pylab inline"
   ]
  },
  {
   "cell_type": "markdown",
   "metadata": {},
   "source": [
    "### Grading\n",
    "We will create a grader instance below and use it to collect your answers. Note that these outputs will be stored locally inside grader and will be uploaded to the platform only after running submitting function in the last part of this assignment. If you want to make a partial submission, you can run that cell anytime you want."
   ]
  },
  {
   "cell_type": "code",
   "execution_count": null,
   "metadata": {
    "collapsed": true
   },
   "outputs": [],
   "source": [
    "grader = Grader()"
   ]
  },
  {
   "cell_type": "markdown",
   "metadata": {},
   "source": [
    "## Task 1. Alice and Bob\n",
    "\n",
    "Alice and Bob are trading on the market. Both of them are selling the Thing and want to get as high profit as possible.\n",
    "Every hour they check out with each other's prices and adjust their prices to compete on the market. Although they have different strategies for price setting.\n",
    "\n",
    "**Alice**: takes Bob's price during the **previous** hour, multiply by 0.6, add 90\\$, add Gaussian noise from $N(0, 20^2)$.\n",
    "\n",
    "**Bob**: takes Alice's price during the **current** hour, multiply by 1.2 and subtract 20\\$, add Gaussian noise from $N(0, 10^2)$.\n",
    "\n",
    "The problem is to find the joint distribution of Alice and Bob's prices after many hours of such an experiment."
   ]
  },
  {
   "cell_type": "markdown",
   "metadata": {},
   "source": [
    "### Task 1.1\n",
    "\n",
    "Implement the `run_simulation` function according to the description above. "
   ]
  },
  {
   "cell_type": "code",
   "execution_count": null,
   "metadata": {
    "collapsed": true
   },
   "outputs": [],
   "source": [
    "def run_simulation(alice_start_price=300.0, bob_start_price=300.0, seed=42, num_hours=10000, burnin=1000):\n",
    "    \"\"\"Simulates an evolution of prices set by Bob and Alice.\n",
    "    \n",
    "    The function should simulate Alice and Bob behavior for `burnin' hours, then ignore the obtained\n",
    "    simulation results, and then simulate it for `num_hours' more.\n",
    "    The initial burnin (also sometimes called warmup) is done to make sure that the distribution stabilized.\n",
    "    \n",
    "    Please don't change the signature of the function.\n",
    "    \n",
    "    Returns:\n",
    "        two lists, with Alice and with Bob prices. Both lists should be of length num_hours.\n",
    "    \"\"\"\n",
    "    np.random.seed(seed)\n",
    "\n",
    "    alice_prices = [alice_start_price]\n",
    "    bob_prices = [bob_start_price]\n",
    "    \n",
    "    #### YOUR CODE HERE ####\n",
    "    \n",
    "    for i in range(1, num_hours+burnin):\n",
    "        ap = bob_prices[-1]*0.6+90+np.random.normal()*20\n",
    "        alice_prices.append(ap)\n",
    "        bp = alice_prices[-1]*1.2-20+np.random.normal()*10\n",
    "        bob_prices.append(bp)\n",
    "    \n",
    "    ### END OF YOUR CODE ###\n",
    "    \n",
    "    return alice_prices[burnin:], bob_prices[burnin:]"
   ]
  },
  {
   "cell_type": "code",
   "execution_count": null,
   "metadata": {},
   "outputs": [],
   "source": [
    "alice_prices, bob_prices = run_simulation(alice_start_price=300, bob_start_price=300, seed=42, num_hours=3, burnin=1)\n",
    "if len(alice_prices) != 3:\n",
    "    raise RuntimeError('Make sure that the function returns `num_hours` data points.')\n",
    "grader.submit_simulation_trajectory(alice_prices, bob_prices)"
   ]
  },
  {
   "cell_type": "code",
   "execution_count": null,
   "metadata": {},
   "outputs": [],
   "source": [
    "x,y = run_simulation(alice_start_price=300, bob_start_price=300, seed=42)\n",
    "print(len(x), len(y))\n",
    "print(x[-10:])\n",
    "print(y[-10:])\n",
    "print(alice_prices)"
   ]
  },
  {
   "cell_type": "markdown",
   "metadata": {},
   "source": [
    "### Task 1.2\n",
    "What is the average prices for Alice and Bob after the burnin period? Whose prices are higher?"
   ]
  },
  {
   "cell_type": "code",
   "execution_count": null,
   "metadata": {},
   "outputs": [],
   "source": [
    "#### YOUR CODE HERE ####\n",
    "alice_prices, bob_prices = run_simulation()\n",
    "average_alice_price = np.mean(alice_prices)\n",
    "average_bob_price = np.mean(bob_prices)\n",
    "### END OF YOUR CODE ###\n",
    "grader.submit_simulation_mean(average_alice_price, average_bob_price)"
   ]
  },
  {
   "cell_type": "markdown",
   "metadata": {},
   "source": [
    "### Task 1.3\n",
    "\n",
    "Let's look at the 2-d histogram of prices, computed using kernel density estimation."
   ]
  },
  {
   "cell_type": "code",
   "execution_count": null,
   "metadata": {},
   "outputs": [],
   "source": [
    "data = np.array(run_simulation())\n",
    "sns.jointplot(data[0, :], data[1, :], stat_func=None, kind='kde')"
   ]
  },
  {
   "cell_type": "markdown",
   "metadata": {},
   "source": [
    "Clearly, the prices of Bob and Alce are highly correlated. What is the Pearson correlation coefficient of Alice and Bob prices?"
   ]
  },
  {
   "cell_type": "code",
   "execution_count": null,
   "metadata": {},
   "outputs": [],
   "source": [
    "#### YOUR CODE HERE ####\n",
    "correlation = np.corrcoef(data[0, :], data[1, :])[0,1]\n",
    "### END OF YOUR CODE ###\n",
    "grader.submit_simulation_correlation(correlation)"
   ]
  },
  {
   "cell_type": "code",
   "execution_count": null,
   "metadata": {},
   "outputs": [],
   "source": [
    "a,b = run_simulation(alice_start_price=3000, bob_start_price=100, seed=42)\n",
    "corr = np.corrcoef(a, b)[0,1]\n",
    "print(corr)\n",
    "print(a[-1], b[-1])\n",
    "sns.jointplot(np.array(a), np.array(b), stat_func=None, kind='kde')"
   ]
  },
  {
   "cell_type": "code",
   "execution_count": null,
   "metadata": {},
   "outputs": [],
   "source": [
    "a,b = run_simulation(alice_start_price=100, bob_start_price=100, seed=42)\n",
    "corr = np.corrcoef(a, b)[0,1]\n",
    "print(corr)\n",
    "print(a[-1], b[-1])\n",
    "sns.jointplot(np.array(a), np.array(b), stat_func=None, kind='kde')"
   ]
  },
  {
   "cell_type": "code",
   "execution_count": null,
   "metadata": {},
   "outputs": [],
   "source": [
    "a,b = run_simulation(seed=1123)\n",
    "corr = np.corrcoef(a, b)[0,1]\n",
    "print(corr)\n",
    "print(a[-1], b[-1])\n",
    "sns.jointplot(np.array(a), np.array(b), stat_func=None, kind='kde')"
   ]
  },
  {
   "cell_type": "code",
   "execution_count": null,
   "metadata": {},
   "outputs": [],
   "source": [
    "a,b = run_simulation(seed=3)\n",
    "corr = np.corrcoef(a, b)[0,1]\n",
    "print(corr)\n",
    "print(a[-1], b[-1])\n",
    "sns.jointplot(np.array(a), np.array(b), stat_func=None, kind='kde')"
   ]
  },
  {
   "cell_type": "markdown",
   "metadata": {},
   "source": [
    "### Task 1.4"
   ]
  },
  {
   "cell_type": "markdown",
   "metadata": {},
   "source": [
    "We observe an interesting effect here: seems like the bivariate distribution of Alice and Bob prices converges to a correlated bivariate Gaussian distribution.\n",
    "\n",
    "Let's check, whether the results change if we use different random seed and starting points."
   ]
  },
  {
   "cell_type": "code",
   "execution_count": null,
   "metadata": {},
   "outputs": [],
   "source": [
    "# Pick different starting prices, e.g 10, 1000, 10000 for Bob and Alice. \n",
    "# Does the joint distribution of the two prices depend on these parameters?\n",
    "POSSIBLE_ANSWERS = {\n",
    "    0: 'Depends on random seed and starting prices', \n",
    "    1: 'Depends only on random seed',\n",
    "    2: 'Depends only on starting prices',\n",
    "    3: 'Does not depend on random seed and starting prices'\n",
    "}\n",
    "\n",
    "idx = 3### TYPE THE INDEX OF THE CORRECT ANSWER HERE ###\n",
    "answer = POSSIBLE_ANSWERS[idx]\n",
    "grader.submit_simulation_depends(answer)"
   ]
  },
  {
   "cell_type": "markdown",
   "metadata": {
    "collapsed": true
   },
   "source": [
    "## Task 2. Logistic regression with PyMC3\n",
    "\n",
    "Logistic regression is a powerful model that allows you to analyze how a set of features affects some binary target label. Posterior distribution over the weights gives us an estimation of the influence of each particular feature on the probability of the target being equal to one. But most importantly, posterior distribution gives us the interval estimates for each weight of the model. This is very important for data analysis when you want to not only provide a good model but also estimate the uncertainty of your conclusions.\n",
    "\n",
    "In this task, we will learn how to use PyMC3 library to perform approximate Bayesian inference for logistic regression.\n",
    "\n",
    "This part of the assignment is based on the logistic regression tutorial by Peadar Coyle and J. Benjamin Cook."
   ]
  },
  {
   "cell_type": "markdown",
   "metadata": {},
   "source": [
    "### Logistic regression.\n",
    "\n",
    "The problem here is to model how the probability that a person has salary $\\geq$ \\$50K is affected by his/her age, education, sex and other features.\n",
    "\n",
    "Let $y_i = 1$ if i-th person's salary is $\\geq$ \\$50K and $y_i = 0$ otherwise. Let $x_{ij}$ be $j$-th feature of $i$-th person.\n",
    "\n",
    "Logistic regression models this probabilty in the following way:\n",
    "\n",
    "$$p(y_i = 1 \\mid \\beta) = \\sigma (\\beta_1 x_{i1} + \\beta_2 x_{i2} + \\dots + \\beta_k x_{ik} ), $$\n",
    "\n",
    "where $\\sigma(t) = \\frac1{1 + e^{-t}}$"
   ]
  },
  {
   "cell_type": "markdown",
   "metadata": {},
   "source": [
    "#### Odds ratio.\n",
    "Let's try to answer the following question: does a gender of a person affects his or her salary? To do it we will use the concept of *odds*.\n",
    "\n",
    "If we have a binary random variable $y$ (which may indicate whether a person makes \\$50K) and if the probabilty of the positive outcome $p(y = 1)$ is for example 0.8, we will say that the *odds* are 4 to 1 (or just 4 for short), because succeding is 4 time more likely than failing $\\frac{p(y = 1)}{p(y = 0)} = \\frac{0.8}{0.2} = 4$.\n",
    "\n",
    "Now, let's return to the effect of gender on the salary. Let's compute the **ratio** between the odds of a male having salary $\\geq $ \\$50K and the odds of a female (with the same level of education, experience and everything else) having salary $\\geq$ \\$50K. The first feature of each person in the dataset is the gender. Specifically, $x_{i1} = 0$ if the person is female and $x_{i1} = 1$ otherwise. Consider two people $i$ and $j$ having all but one features the same with the only difference in $x_{i1} \\neq x_{j1}$.\n",
    "\n",
    "If the logistic regression model above estimates the probabilities exactly, the odds for a male will be (check it!):\n",
    "$$\n",
    "\\frac{p(y_i = 1 \\mid x_{i1}=1, x_{i2}, \\ldots, x_{ik})}{p(y_i = 0 \\mid x_{i1}=1, x_{i2}, \\ldots, x_{ik})} = \\frac{\\sigma(\\beta_1 + \\beta_2 x_{i2} + \\ldots)}{1 - \\sigma(\\beta_1 + \\beta_2 x_{i2} + \\ldots)} = \\exp(\\beta_1 + \\beta_2 x_{i2} + \\ldots)\n",
    "$$\n",
    "\n",
    "Now the ratio of the male and female odds will be:\n",
    "$$\n",
    "\\frac{\\exp(\\beta_1 \\cdot 1 + \\beta_2 x_{i2} + \\ldots)}{\\exp(\\beta_1 \\cdot 0 + \\beta_2 x_{i2} + \\ldots)} = \\exp(\\beta_1)\n",
    "$$\n",
    "\n",
    "So given the correct logistic regression model, we can estimate odds ratio for some feature (gender in this example) by just looking at the corresponding coefficient. But of course, even if all the logistic regression assumptions are met we cannot estimate the coefficient exactly from real-world data, it's just too noisy. So it would be really nice to build an interval estimate, which would tell us something along the lines \"with probability 0.95 the odds ratio is greater than 0.8 and less than 1.2, so we cannot conclude that there is any gender discrimination in the salaries\" (or vice versa, that \"with probability 0.95 the odds ratio is greater than 1.5 and less than 1.9 and the discrimination takes place because a male has at least 1.5 higher probability to get >$50k than a female with the same level of education, age, etc.\"). In Bayesian statistics, this interval estimate is called *credible interval*.\n",
    "\n",
    "Unfortunately, it's impossible to compute this credible interval analytically. So let's use MCMC for that!\n",
    "\n",
    "#### Credible interval\n",
    "A credible interval for the value of $\\exp(\\beta_1)$ is an interval $[a, b]$ such that $p(a \\leq \\exp(\\beta_1) \\leq b \\mid X_{\\text{train}}, y_{\\text{train}})$ is $0.95$ (or some other predefined value). To compute the interval, we need access to the posterior distribution $p(\\exp(\\beta_1) \\mid X_{\\text{train}}, y_{\\text{train}})$.\n",
    "\n",
    "Lets for simplicity focus on the posterior on the parameters $p(\\beta_1 \\mid X_{\\text{train}}, y_{\\text{train}})$ since if we compute it, we can always find $[a, b]$ such that $p(\\log a \\leq \\beta_1 \\leq \\log b \\mid X_{\\text{train}}, y_{\\text{train}}) = p(a \\leq \\exp(\\beta_1) \\leq b \\mid X_{\\text{train}}, y_{\\text{train}}) = 0.95$\n"
   ]
  },
  {
   "cell_type": "markdown",
   "metadata": {},
   "source": [
    "### Task 2.1 MAP inference"
   ]
  },
  {
   "cell_type": "markdown",
   "metadata": {},
   "source": [
    "Let's read the dataset. This is a post-processed version of the [UCI Adult dataset](http://archive.ics.uci.edu/ml/datasets/Adult)."
   ]
  },
  {
   "cell_type": "code",
   "execution_count": 2,
   "metadata": {},
   "outputs": [
    {
     "data": {
      "text/html": [
       "<div>\n",
       "<style>\n",
       "    .dataframe thead tr:only-child th {\n",
       "        text-align: right;\n",
       "    }\n",
       "\n",
       "    .dataframe thead th {\n",
       "        text-align: left;\n",
       "    }\n",
       "\n",
       "    .dataframe tbody tr th {\n",
       "        vertical-align: top;\n",
       "    }\n",
       "</style>\n",
       "<table border=\"1\" class=\"dataframe\">\n",
       "  <thead>\n",
       "    <tr style=\"text-align: right;\">\n",
       "      <th></th>\n",
       "      <th>sex</th>\n",
       "      <th>age</th>\n",
       "      <th>educ</th>\n",
       "      <th>hours</th>\n",
       "      <th>income_more_50K</th>\n",
       "    </tr>\n",
       "  </thead>\n",
       "  <tbody>\n",
       "    <tr>\n",
       "      <th>0</th>\n",
       "      <td>Male</td>\n",
       "      <td>39</td>\n",
       "      <td>13</td>\n",
       "      <td>40</td>\n",
       "      <td>0</td>\n",
       "    </tr>\n",
       "    <tr>\n",
       "      <th>1</th>\n",
       "      <td>Male</td>\n",
       "      <td>50</td>\n",
       "      <td>13</td>\n",
       "      <td>13</td>\n",
       "      <td>0</td>\n",
       "    </tr>\n",
       "    <tr>\n",
       "      <th>2</th>\n",
       "      <td>Male</td>\n",
       "      <td>38</td>\n",
       "      <td>9</td>\n",
       "      <td>40</td>\n",
       "      <td>0</td>\n",
       "    </tr>\n",
       "    <tr>\n",
       "      <th>3</th>\n",
       "      <td>Male</td>\n",
       "      <td>53</td>\n",
       "      <td>7</td>\n",
       "      <td>40</td>\n",
       "      <td>0</td>\n",
       "    </tr>\n",
       "    <tr>\n",
       "      <th>4</th>\n",
       "      <td>Female</td>\n",
       "      <td>28</td>\n",
       "      <td>13</td>\n",
       "      <td>40</td>\n",
       "      <td>0</td>\n",
       "    </tr>\n",
       "  </tbody>\n",
       "</table>\n",
       "</div>"
      ],
      "text/plain": [
       "       sex  age  educ  hours  income_more_50K\n",
       "0     Male   39    13     40                0\n",
       "1     Male   50    13     13                0\n",
       "2     Male   38     9     40                0\n",
       "3     Male   53     7     40                0\n",
       "4   Female   28    13     40                0"
      ]
     },
     "execution_count": 2,
     "metadata": {},
     "output_type": "execute_result"
    }
   ],
   "source": [
    "data = pd.read_csv(\"adult_us_postprocessed.csv\")\n",
    "data.head()"
   ]
  },
  {
   "cell_type": "markdown",
   "metadata": {},
   "source": [
    "Each row of the dataset is a person with his (her) features. The last column is the target variable $y$. 1 indicates that this person's annual salary is more than $50K.\n",
    "\n",
    "First of all let's set up a Bayesian logistic regression model (i.e. define priors on the parameters $\\alpha$ and $\\beta$ of the model) that predicts the value of \"income_more_50K\" based on person's age and education:\n",
    "\n",
    "$$\n",
    "p(y = 1 \\mid \\alpha, \\beta_1, \\beta_2) = \\sigma(\\alpha + \\beta_1 x_1 + \\beta_2 x_2) \\\\ \n",
    "\\alpha \\sim N(0, 100^2) \\\\\n",
    "\\beta_1 \\sim N(0, 100^2) \\\\\n",
    "\\beta_2 \\sim N(0, 100^2), \\\\\n",
    "$$\n",
    "\n",
    "where $x_1$ is a person's age, $x_2$ is his/her level of education, y indicates his/her level of income, $\\alpha$, $\\beta_1$ and $\\beta_2$ are paramters of the model."
   ]
  },
  {
   "cell_type": "code",
   "execution_count": null,
   "metadata": {},
   "outputs": [],
   "source": [
    "with pm.Model() as manual_logistic_model:\n",
    "    # Declare pymc random variables for logistic regression coefficients with uninformative \n",
    "    # prior distributions N(0, 100^2) on each weight using pm.Normal. \n",
    "    # Don't forget to give each variable a unique name.\n",
    "    \n",
    "    #### YOUR CODE HERE ####\n",
    "    \n",
    "    alpha = pm.Normal('α', mu=0, sd=100)\n",
    "    beta1 = pm.Normal('β1', mu=0, sd=100)\n",
    "    beta2 = pm.Normal('β2', mu=0, sd=100)\n",
    "    \n",
    "    ### END OF YOUR CODE ###\n",
    "    \n",
    "    # Thansform these random variables into vector of probabilities p(y_i=1) using logistic regression model specified \n",
    "    # above. PyMC random variables are theano shared variables and support simple mathematical operations.\n",
    "    # For example:\n",
    "    # z = pm.Normal('x', 0, 1) * np.array([1, 2, 3]) + pm.Normal('y', 0, 1) * np.array([4, 5, 6])`\n",
    "    # is a correct PyMC expression.\n",
    "    # Use pm.invlogit for the sigmoid function.\n",
    "    \n",
    "    #### YOUR CODE HERE ####\n",
    "    \n",
    "    p =  pm.invlogit(alpha + beta1*data['age']+beta2*data['educ'])\n",
    "    \n",
    "    ### END OF YOUR CODE ###\n",
    "    \n",
    "    # Declare PyMC Bernoulli random vector with probability of success equal to the corresponding value\n",
    "    # given by the sigmoid function.\n",
    "    # Supply target vector using \"observed\" argument in the constructor.\n",
    "\n",
    "    #### YOUR CODE HERE ####\n",
    "    \n",
    "    pm.Bernoulli('truth', p=p, observed=data['income_more_50K'])\n",
    "    \n",
    "    ### END OF YOUR CODE ###\n",
    "    \n",
    "    # Use pm.find_MAP() to find the maximum a-posteriori estimate for the vector of logistic regression weights.\n",
    "    map_estimate = pm.find_MAP()\n",
    "    print(map_estimate)\n",
    "\n"
   ]
  },
  {
   "cell_type": "markdown",
   "metadata": {},
   "source": [
    "Sumbit MAP estimations of corresponding coefficients:"
   ]
  },
  {
   "cell_type": "code",
   "execution_count": null,
   "metadata": {},
   "outputs": [],
   "source": [
    "with pm.Model() as logistic_model:\n",
    "    # There's a simpler interface for generalized linear models in pymc3. \n",
    "    # Try to train the same model using pm.glm.GLM.from_formula.\n",
    "    # Do not forget to specify that the target variable is binary (and hence follows Binomial distribution).\n",
    "    \n",
    "    #### YOUR CODE HERE ####\n",
    "    # GLM.from_formula('y ~ x1 + x2', df)\n",
    "    from pymc3.glm.families import Binomial\n",
    "    pm.glm.GLM.from_formula('income_more_50K ~ age + educ', data, family=Binomial())\n",
    "    \n",
    "    ### END OF YOUR CODE ###\n",
    "    map_estimate = pm.find_MAP()\n",
    "    print(map_estimate)"
   ]
  },
  {
   "cell_type": "code",
   "execution_count": null,
   "metadata": {
    "scrolled": true
   },
   "outputs": [],
   "source": [
    "beta_age_coefficient = 0.043482589526144366 ### TYPE MAP ESTIMATE OF THE AGE COEFFICIENT HERE ###\n",
    "beta_education_coefficient = 0.3621089416949502 ### TYPE MAP ESTIMATE OF THE EDUCATION COEFFICIENT HERE ###\n",
    "grader.submit_pymc_map_estimates(beta_age_coefficient, beta_education_coefficient)"
   ]
  },
  {
   "cell_type": "markdown",
   "metadata": {},
   "source": [
    "### Task 2.2 MCMC"
   ]
  },
  {
   "cell_type": "markdown",
   "metadata": {},
   "source": [
    "To find credible regions let's perform MCMC inference."
   ]
  },
  {
   "cell_type": "code",
   "execution_count": null,
   "metadata": {
    "collapsed": true
   },
   "outputs": [],
   "source": [
    "# You will need the following function to visualize the sampling process.\n",
    "# You don't need to change it.\n",
    "def plot_traces(traces, burnin=2000):\n",
    "    ''' \n",
    "    Convenience function:\n",
    "    Plot traces with overlaid means and values\n",
    "    '''\n",
    "    \n",
    "    ax = pm.traceplot(traces[burnin:], figsize=(12,len(traces.varnames)*1.5),\n",
    "        lines={k: v['mean'] for k, v in pm.summary(traces[burnin:]).iterrows()})\n",
    "\n",
    "    for i, mn in enumerate(pm.summary(traces[burnin:])['mean']):\n",
    "        ax[i,0].annotate('{:.2f}'.format(mn), xy=(mn,0), xycoords='data'\n",
    "                    ,xytext=(5,10), textcoords='offset points', rotation=90\n",
    "                    ,va='bottom', fontsize='large', color='#AA0022')"
   ]
  },
  {
   "cell_type": "markdown",
   "metadata": {},
   "source": [
    "#### Metropolis-Hastings\n",
    "Let's use Metropolis-Hastings algorithm for finding the samples from the posterior distribution.\n",
    "\n",
    "Once you wrote the code, explore the hyperparameters of Metropolis-Hastings such as the proposal distribution variance to speed up the convergence. You can use `plot_traces` function in the next cell to visually inspect the convergence.\n",
    "\n",
    "You may also use MAP-estimate to initialize the sampling scheme to speed things up. This will make the warmup (burnin) period shorter since you will start from a probable point."
   ]
  },
  {
   "cell_type": "code",
   "execution_count": null,
   "metadata": {
    "scrolled": true
   },
   "outputs": [],
   "source": [
    "with pm.Model() as logistic_model:\n",
    "    # Since it is unlikely that the dependency between the age and salary is linear, we will include age squared\n",
    "    # into features so that we can model dependency that favors certain ages.\n",
    "    # Train Bayesian logistic regression model on the following features: sex, age, age^2, educ, hours\n",
    "    # Use pm.sample to run MCMC to train this model.\n",
    "    # To specify the particular sampler method (Metropolis-Hastings) to pm.sample,\n",
    "    # use `pm.Metropolis`.\n",
    "    # Train your model for 400 samples.\n",
    "    # Save the output of pm.sample to a variable: this is the trace of the sampling procedure and will be used\n",
    "    # to estimate the statistics of the posterior distribution.\n",
    "    \n",
    "    #### YOUR CODE HERE ####\n",
    "    \n",
    "    data['age_squard'] = data['age'] * data['age']\n",
    "    data['male'] = 1*(data['sex']==' Male')\n",
    "    # from pymc3.glm.families import Binomial\n",
    "    # pm.glm.GLM.from_formula('income_more_50K ~ sex + age + age_squard + educ + hours', data, family=Binomial())\n",
    "    \n",
    "    alpha = pm.Normal('α', mu=0, sd=100)\n",
    "    beta1 = pm.Normal('β1', mu=0, sd=10)\n",
    "    beta2 = pm.Normal('β2', mu=0, sd=100)\n",
    "    beta3 = pm.Normal('β3', mu=0, sd=100)\n",
    "    beta4 = pm.Normal('β4', mu=0, sd=100)\n",
    "    beta5 = pm.Normal('β5', mu=0, sd=100)\n",
    "    \n",
    "    p =  pm.invlogit(alpha + beta1*data['male']+beta2*data['age']\n",
    "                     +beta3*data['age_squard']+beta4*data['educ']+beta5*data['hours'])\n",
    "    pm.Bernoulli('truth', p=p, observed=data['income_more_50K'])\n",
    "    \n",
    "    # map_estimate = pm.find_MAP()\n",
    "    start = pm.find_MAP()\n",
    "    \n",
    "    trace = pm.sample(draws=400, start=start, step=pm.Metropolis(vars=[alpha, beta1,beta2,beta3,beta4,beta5]))\n",
    "    \n",
    "    ### END OF YOUR CODE ###"
   ]
  },
  {
   "cell_type": "code",
   "execution_count": null,
   "metadata": {},
   "outputs": [],
   "source": [
    "plot_traces(trace, burnin=200)"
   ]
  },
  {
   "cell_type": "markdown",
   "metadata": {},
   "source": [
    "#### NUTS sampler\n",
    "Use pm.sample without specifying a particular sampling method (pymc3 will choose it automatically).\n",
    "The sampling algorithm that will be used in this case is NUTS, which is a form of Hamiltonian Monte Carlo, in which parameters are tuned automatically. This is an advanced method that we hadn't cover in the lectures, but it usually converges faster and gives less correlated samples compared to vanilla Metropolis-Hastings.\n",
    "\n",
    "Since the NUTS sampler doesn't require to tune hyperparameters, let's run it for 10 times more iterations than Metropolis-Hastings."
   ]
  },
  {
   "cell_type": "code",
   "execution_count": null,
   "metadata": {},
   "outputs": [],
   "source": [
    "with pm.Model() as logistic_model:\n",
    "    # Train Bayesian logistic regression model on the following features: sex, age, age_squared, educ, hours\n",
    "    # Use pm.sample to run MCMC to train this model.\n",
    "    # Train your model for *4000* samples (ten times more than before).\n",
    "    # Training can take a while, so relax and wait :)\n",
    "    \n",
    "    #### YOUR CODE HERE ####\n",
    "    \n",
    "    data['age_squard'] = data['age'] * data['age']\n",
    "    data['sex[T. Male]'] = 1*(data['sex']==' Male')\n",
    "    \n",
    "    # from pymc3.glm.families import Binomial\n",
    "    # pm.glm.GLM.from_formula('income_more_50K ~ sex + age + age_squard + educ + hours', data, family=Binomial())\n",
    "    \n",
    "    alpha = pm.Normal('bias', mu=0, sd=100)\n",
    "    beta1 = pm.Normal('sex[T. Male]', mu=0, sd=100)\n",
    "    beta2 = pm.Normal('age', mu=0, sd=100)\n",
    "    beta3 = pm.Normal('age_squard', mu=0, sd=100)\n",
    "    beta4 = pm.Normal('educ', mu=0, sd=100)\n",
    "    beta5 = pm.Normal('hours', mu=0, sd=100)\n",
    "    \n",
    "    # pm.invlogit()\n",
    "    # logit_p =  alpha + beta1*data['sex[T. Male]']+beta2*data['age']+ \\\n",
    "    #         beta3*data['age_squard']+beta4*data['educ']+beta5*data['hours']\n",
    "    # pm.Bernoulli('truth', logit_p=logit_p, observed=data['income_more_50K'])\n",
    "    \n",
    "    p =  pm.invlogit(alpha + beta1*data['sex[T. Male]']+beta2*data['age']\n",
    "                     +beta3*data['age_squard']+beta4*data['educ']+beta5*data['hours'])\n",
    "    pm.Bernoulli('truth', p=p, observed=data['income_more_50K'])\n",
    "    \n",
    "    start = pm.find_MAP()\n",
    "    \n",
    "    trace = pm.sample(draws=4000, start=start)\n",
    "    ### END OF YOUR CODE ###"
   ]
  },
  {
   "cell_type": "code",
   "execution_count": null,
   "metadata": {
    "scrolled": true
   },
   "outputs": [],
   "source": [
    "with pm.Model() as logistic_model:\n",
    "    # Train Bayesian logistic regression model on the following features: sex, age, age_squared, educ, hours\n",
    "    # Use pm.sample to run MCMC to train this model.\n",
    "    # Train your model for *4000* samples (ten times more than before).\n",
    "    # Training can take a while, so relax and wait :)\n",
    "    \n",
    "    #### YOUR CODE HERE ####\n",
    "    \n",
    "    data['age_squard'] = data['age'] * data['age']\n",
    "    \n",
    "    # data['male'] = data['sex']==1\n",
    "    data['male'] = 1*(data['sex']==' Male')\n",
    "    \n",
    "    pm.glm.GLM.from_formula('income_more_50K ~ male + age + age_squard + educ + hours',\n",
    "                            data, family=pm.glm.families.Binomial())\n",
    "    \n",
    "    # start = pm.find_MAP()\n",
    "    \n",
    "    trace = pm.sample(draws=4000, init='adapt_diag')\n",
    "    ### END OF YOUR CODE ###"
   ]
  },
  {
   "cell_type": "code",
   "execution_count": null,
   "metadata": {},
   "outputs": [],
   "source": [
    "# data['male'] = 1*(data['sex']==' Male')\n",
    "# data.info()\n",
    "# print(data.iloc[0]['sex'].strip()=='Male', ord(data.iloc[0]['sex'][0]))\n",
    "print(data['sex'].unique())\n",
    "data.head()"
   ]
  },
  {
   "cell_type": "code",
   "execution_count": null,
   "metadata": {},
   "outputs": [],
   "source": [
    "plot_traces(trace)"
   ]
  },
  {
   "cell_type": "markdown",
   "metadata": {},
   "source": [
    "#### Estimating the odds ratio\n",
    "Now, let's build the posterior distribution on the odds ratio given the dataset (approximated by MCMC)."
   ]
  },
  {
   "cell_type": "code",
   "execution_count": null,
   "metadata": {},
   "outputs": [],
   "source": [
    "# We don't need to use a large burn-in here, since we initialize sampling\n",
    "# from a good point (from our approximation of the most probable\n",
    "# point (MAP) to be more precise).\n",
    "burnin = 100\n",
    "b = trace['sex[T. Male]'][burnin:]\n",
    "# b = trace['β1'][burnin:]\n",
    "plt.hist(np.exp(b), bins=20, normed=True)\n",
    "plt.xlabel(\"Odds Ratio\")\n",
    "plt.show()"
   ]
  },
  {
   "cell_type": "code",
   "execution_count": null,
   "metadata": {},
   "outputs": [],
   "source": [
    "'''\n",
    "print(trace[0])\n",
    "help(pm.invlogit)\n",
    "help(pm.Bernoulli)\n",
    "'''\n",
    "print(pm.invlogit(0.7))"
   ]
  },
  {
   "cell_type": "markdown",
   "metadata": {},
   "source": [
    "\n",
    "Finally, we can find a credible interval  (recall that credible intervals are Bayesian and confidence intervals are frequentist) for this quantity. This may be the best part about Bayesian statistics: we get to interpret credibility intervals the way we've always wanted to interpret them. We are 95% confident that the odds ratio lies within our interval!"
   ]
  },
  {
   "cell_type": "code",
   "execution_count": null,
   "metadata": {},
   "outputs": [],
   "source": [
    "lb, ub = np.percentile(b, 2.5), np.percentile(b, 97.5)\n",
    "print(\"P(%.3f < Odds Ratio < %.3f) = 0.95\" % (np.exp(lb), np.exp(ub)))"
   ]
  },
  {
   "cell_type": "code",
   "execution_count": null,
   "metadata": {},
   "outputs": [],
   "source": [
    "# Submit the obtained credible interval.\n",
    "grader.submit_pymc_odds_ratio_interval(np.exp(lb), np.exp(ub))"
   ]
  },
  {
   "cell_type": "markdown",
   "metadata": {},
   "source": [
    "### Task 2.3 interpreting the results"
   ]
  },
  {
   "cell_type": "code",
   "execution_count": null,
   "metadata": {},
   "outputs": [],
   "source": [
    "# Does the gender affects salary in the provided dataset?\n",
    "# (Note that the data is from 1996 and maybe not representative\n",
    "# of the current situation in the world.)\n",
    "POSSIBLE_ANSWERS = {\n",
    "    0: 'No, there is certainly no discrimination',\n",
    "    1: 'We cannot say for sure',\n",
    "    2: 'Yes, we are 95% sure that a female is *less* likely to get >$50K than a male with the same age, level of education, etc.', \n",
    "    3: 'Yes, we are 95% sure that a female is *more* likely to get >$50K than a male with the same age, level of education, etc.', \n",
    "}\n",
    "\n",
    "idx = 2 ### TYPE THE INDEX OF THE CORRECT ANSWER HERE ###\n",
    "answer = POSSIBLE_ANSWERS[idx]\n",
    "grader.submit_is_there_discrimination(answer)"
   ]
  },
  {
   "cell_type": "markdown",
   "metadata": {},
   "source": [
    "# Authorization & Submission\n",
    "To submit assignment parts to Cousera platform, please, enter your e-mail and token into variables below. You can generate token on this programming assignment page. <b>Note:</b> Token expires 30 minutes after generation."
   ]
  },
  {
   "cell_type": "code",
   "execution_count": null,
   "metadata": {},
   "outputs": [],
   "source": [
    "STUDENT_EMAIL = 'felixdae@gmail.com'\n",
    "STUDENT_TOKEN = 'Zb0Tzf61BFDP4L92'\n",
    "grader.status()"
   ]
  },
  {
   "cell_type": "markdown",
   "metadata": {},
   "source": [
    "If you want to submit these answers, run cell below"
   ]
  },
  {
   "cell_type": "code",
   "execution_count": null,
   "metadata": {},
   "outputs": [],
   "source": [
    "grader.submit(STUDENT_EMAIL, STUDENT_TOKEN)"
   ]
  },
  {
   "cell_type": "markdown",
   "metadata": {},
   "source": [
    "# (Optional) generating videos of sampling process\n",
    "For this (optional) part you will need to install ffmpeg, e.g. by the following command on linux\n",
    "\n",
    "    apt-get install ffmpeg\n",
    "\n",
    "or the following command on Mac\n",
    "\n",
    "    brew install ffmpeg"
   ]
  },
  {
   "cell_type": "markdown",
   "metadata": {},
   "source": [
    "## Setting things up\n",
    "You don't need to modify the code below, it sets up the plotting functions. The code is based on [MCMC visualization tutorial](https://twiecki.github.io/blog/2014/01/02/visualizing-mcmc/)."
   ]
  },
  {
   "cell_type": "code",
   "execution_count": 4,
   "metadata": {},
   "outputs": [
    {
     "data": {
      "image/png": "[encoded data removed]",
      "text/plain": [
       "<matplotlib.figure.Figure at 0x11aef9f60>"
      ]
     },
     "metadata": {},
     "output_type": "display_data"
    }
   ],
   "source": [
    "from IPython.display import HTML\n",
    "\n",
    "# Number of MCMC iteration to animate.\n",
    "samples = 400\n",
    "\n",
    "figsize(6, 6)\n",
    "fig = plt.figure()\n",
    "s_width = (0.81, 1.29)\n",
    "a_width = (0.11, 0.39)\n",
    "samples_width = (0, samples)\n",
    "ax1 = fig.add_subplot(221, xlim=s_width, ylim=samples_width)\n",
    "ax2 = fig.add_subplot(224, xlim=samples_width, ylim=a_width)\n",
    "ax3 = fig.add_subplot(223, xlim=s_width, ylim=a_width,\n",
    "                      xlabel='male coef',\n",
    "                      ylabel='educ coef')\n",
    "fig.subplots_adjust(wspace=0.0, hspace=0.0)\n",
    "line1, = ax1.plot([], [], lw=1)\n",
    "line2, = ax2.plot([], [], lw=1)\n",
    "line3, = ax3.plot([], [], 'o', lw=2, alpha=.1)\n",
    "line4, = ax3.plot([], [], lw=1, alpha=.3)\n",
    "line5, = ax3.plot([], [], 'k', lw=1)\n",
    "line6, = ax3.plot([], [], 'k', lw=1)\n",
    "ax1.set_xticklabels([])\n",
    "ax2.set_yticklabels([])\n",
    "lines = [line1, line2, line3, line4, line5, line6]\n",
    "\n",
    "def init():\n",
    "    for line in lines:\n",
    "        line.set_data([], [])\n",
    "    return lines\n",
    "\n",
    "def animate(i):\n",
    "    with logistic_model:\n",
    "        if i == 0:\n",
    "            # Burnin\n",
    "            for j in range(samples): iter_sample.__next__() \n",
    "        trace = iter_sample.__next__()\n",
    "#     import pdb; pdb.set_trace()\n",
    "    \n",
    "    line1.set_data(trace['sex[T. Male]'][::-1], range(len(trace['sex[T. Male]'])))\n",
    "    line2.set_data(range(len(trace['educ'])), trace['educ'][::-1])\n",
    "    line3.set_data(trace['sex[T. Male]'], trace['educ'])\n",
    "    line4.set_data(trace['sex[T. Male]'], trace['educ'])\n",
    "    male = trace['sex[T. Male]'][-1]\n",
    "    educ = trace['educ'][-1]\n",
    "    '''\n",
    "    \n",
    "    line1.set_data(trace['male'][::-1], range(len(trace['male'])))\n",
    "    line2.set_data(range(len(trace['educ'])), trace['educ'][::-1])\n",
    "    line3.set_data(trace['male'], trace['educ'])\n",
    "    line4.set_data(trace['male'], trace['educ'])\n",
    "    male = trace['male'][-1]\n",
    "    educ = trace['educ'][-1]\n",
    "    '''\n",
    "    \n",
    "    line5.set_data([male, male], [educ, a_width[1]])\n",
    "    line6.set_data([male, s_width[1]], [educ, educ])\n",
    "    return lines"
   ]
  },
  {
   "cell_type": "markdown",
   "metadata": {},
   "source": [
    "## Animating Metropolis-Hastings"
   ]
  },
  {
   "cell_type": "code",
   "execution_count": 8,
   "metadata": {},
   "outputs": [
    {
     "name": "stderr",
     "output_type": "stream",
     "text": [
      "logp = -22,609, ||grad|| = 1.1051e+07: 100%|██████████| 8/8 [00:00<00:00, 471.06it/s]\n"
     ]
    },
    {
     "ename": "KeyError",
     "evalue": "'Unknown variable sex[T. Male]'",
     "output_type": "error",
     "traceback": [
      "\u001b[0;31m---------------------------------------------------------------------------\u001b[0m",
      "\u001b[0;31mKeyError\u001b[0m                                  Traceback (most recent call last)",
      "\u001b[0;32m<ipython-input-8-13da598fc162>\u001b[0m in \u001b[0;36m<module>\u001b[0;34m()\u001b[0m\n\u001b[1;32m     21\u001b[0m anim = animation.FuncAnimation(fig, animate, init_func=init,\n\u001b[1;32m     22\u001b[0m                                frames=samples, interval=5, blit=True)\n\u001b[0;32m---> 23\u001b[0;31m \u001b[0mHTML\u001b[0m\u001b[0;34m(\u001b[0m\u001b[0manim\u001b[0m\u001b[0;34m.\u001b[0m\u001b[0mto_html5_video\u001b[0m\u001b[0;34m(\u001b[0m\u001b[0;34m)\u001b[0m\u001b[0;34m)\u001b[0m\u001b[0;34m\u001b[0m\u001b[0m\n\u001b[0m\u001b[1;32m     24\u001b[0m \u001b[0;31m# Note that generating the video may take a while.\u001b[0m\u001b[0;34m\u001b[0m\u001b[0;34m\u001b[0m\u001b[0m\n",
      "\u001b[0;32m~/anaconda3/envs/data/lib/python3.6/site-packages/matplotlib/animation.py\u001b[0m in \u001b[0;36mto_html5_video\u001b[0;34m(self)\u001b[0m\n\u001b[1;32m   1207\u001b[0m                                 \u001b[0mbitrate\u001b[0m\u001b[0;34m=\u001b[0m\u001b[0mrcParams\u001b[0m\u001b[0;34m[\u001b[0m\u001b[0;34m'animation.bitrate'\u001b[0m\u001b[0;34m]\u001b[0m\u001b[0;34m,\u001b[0m\u001b[0;34m\u001b[0m\u001b[0m\n\u001b[1;32m   1208\u001b[0m                                 fps=1000. / self._interval)\n\u001b[0;32m-> 1209\u001b[0;31m                 \u001b[0mself\u001b[0m\u001b[0;34m.\u001b[0m\u001b[0msave\u001b[0m\u001b[0;34m(\u001b[0m\u001b[0mf\u001b[0m\u001b[0;34m.\u001b[0m\u001b[0mname\u001b[0m\u001b[0;34m,\u001b[0m \u001b[0mwriter\u001b[0m\u001b[0;34m=\u001b[0m\u001b[0mwriter\u001b[0m\u001b[0;34m)\u001b[0m\u001b[0;34m\u001b[0m\u001b[0m\n\u001b[0m\u001b[1;32m   1210\u001b[0m \u001b[0;34m\u001b[0m\u001b[0m\n\u001b[1;32m   1211\u001b[0m             \u001b[0;31m# Now open and base64 encode\u001b[0m\u001b[0;34m\u001b[0m\u001b[0;34m\u001b[0m\u001b[0m\n",
      "\u001b[0;32m~/anaconda3/envs/data/lib/python3.6/site-packages/matplotlib/animation.py\u001b[0m in \u001b[0;36msave\u001b[0;34m(self, filename, writer, fps, dpi, codec, bitrate, extra_args, metadata, extra_anim, savefig_kwargs)\u001b[0m\n\u001b[1;32m   1060\u001b[0m                     \u001b[0;32mfor\u001b[0m \u001b[0manim\u001b[0m\u001b[0;34m,\u001b[0m \u001b[0md\u001b[0m \u001b[0;32min\u001b[0m \u001b[0mzip\u001b[0m\u001b[0;34m(\u001b[0m\u001b[0mall_anim\u001b[0m\u001b[0;34m,\u001b[0m \u001b[0mdata\u001b[0m\u001b[0;34m)\u001b[0m\u001b[0;34m:\u001b[0m\u001b[0;34m\u001b[0m\u001b[0m\n\u001b[1;32m   1061\u001b[0m                         \u001b[0;31m# TODO: See if turning off blit is really necessary\u001b[0m\u001b[0;34m\u001b[0m\u001b[0;34m\u001b[0m\u001b[0m\n\u001b[0;32m-> 1062\u001b[0;31m                         \u001b[0manim\u001b[0m\u001b[0;34m.\u001b[0m\u001b[0m_draw_next_frame\u001b[0m\u001b[0;34m(\u001b[0m\u001b[0md\u001b[0m\u001b[0;34m,\u001b[0m \u001b[0mblit\u001b[0m\u001b[0;34m=\u001b[0m\u001b[0;32mFalse\u001b[0m\u001b[0;34m)\u001b[0m\u001b[0;34m\u001b[0m\u001b[0m\n\u001b[0m\u001b[1;32m   1063\u001b[0m                     \u001b[0mwriter\u001b[0m\u001b[0;34m.\u001b[0m\u001b[0mgrab_frame\u001b[0m\u001b[0;34m(\u001b[0m\u001b[0;34m**\u001b[0m\u001b[0msavefig_kwargs\u001b[0m\u001b[0;34m)\u001b[0m\u001b[0;34m\u001b[0m\u001b[0m\n\u001b[1;32m   1064\u001b[0m \u001b[0;34m\u001b[0m\u001b[0m\n",
      "\u001b[0;32m~/anaconda3/envs/data/lib/python3.6/site-packages/matplotlib/animation.py\u001b[0m in \u001b[0;36m_draw_next_frame\u001b[0;34m(self, framedata, blit)\u001b[0m\n\u001b[1;32m   1097\u001b[0m         \u001b[0;31m# post- draw, as well as the drawing of the frame itself.\u001b[0m\u001b[0;34m\u001b[0m\u001b[0;34m\u001b[0m\u001b[0m\n\u001b[1;32m   1098\u001b[0m         \u001b[0mself\u001b[0m\u001b[0;34m.\u001b[0m\u001b[0m_pre_draw\u001b[0m\u001b[0;34m(\u001b[0m\u001b[0mframedata\u001b[0m\u001b[0;34m,\u001b[0m \u001b[0mblit\u001b[0m\u001b[0;34m)\u001b[0m\u001b[0;34m\u001b[0m\u001b[0m\n\u001b[0;32m-> 1099\u001b[0;31m         \u001b[0mself\u001b[0m\u001b[0;34m.\u001b[0m\u001b[0m_draw_frame\u001b[0m\u001b[0;34m(\u001b[0m\u001b[0mframedata\u001b[0m\u001b[0;34m)\u001b[0m\u001b[0;34m\u001b[0m\u001b[0m\n\u001b[0m\u001b[1;32m   1100\u001b[0m         \u001b[0mself\u001b[0m\u001b[0;34m.\u001b[0m\u001b[0m_post_draw\u001b[0m\u001b[0;34m(\u001b[0m\u001b[0mframedata\u001b[0m\u001b[0;34m,\u001b[0m \u001b[0mblit\u001b[0m\u001b[0;34m)\u001b[0m\u001b[0;34m\u001b[0m\u001b[0m\n\u001b[1;32m   1101\u001b[0m \u001b[0;34m\u001b[0m\u001b[0m\n",
      "\u001b[0;32m~/anaconda3/envs/data/lib/python3.6/site-packages/matplotlib/animation.py\u001b[0m in \u001b[0;36m_draw_frame\u001b[0;34m(self, framedata)\u001b[0m\n\u001b[1;32m   1560\u001b[0m         \u001b[0;31m# Call the func with framedata and args. If blitting is desired,\u001b[0m\u001b[0;34m\u001b[0m\u001b[0;34m\u001b[0m\u001b[0m\n\u001b[1;32m   1561\u001b[0m         \u001b[0;31m# func needs to return a sequence of any artists that were modified.\u001b[0m\u001b[0;34m\u001b[0m\u001b[0;34m\u001b[0m\u001b[0m\n\u001b[0;32m-> 1562\u001b[0;31m         \u001b[0mself\u001b[0m\u001b[0;34m.\u001b[0m\u001b[0m_drawn_artists\u001b[0m \u001b[0;34m=\u001b[0m \u001b[0mself\u001b[0m\u001b[0;34m.\u001b[0m\u001b[0m_func\u001b[0m\u001b[0;34m(\u001b[0m\u001b[0mframedata\u001b[0m\u001b[0;34m,\u001b[0m \u001b[0;34m*\u001b[0m\u001b[0mself\u001b[0m\u001b[0;34m.\u001b[0m\u001b[0m_args\u001b[0m\u001b[0;34m)\u001b[0m\u001b[0;34m\u001b[0m\u001b[0m\n\u001b[0m\u001b[1;32m   1563\u001b[0m         \u001b[0;32mif\u001b[0m \u001b[0mself\u001b[0m\u001b[0;34m.\u001b[0m\u001b[0m_blit\u001b[0m\u001b[0;34m:\u001b[0m\u001b[0;34m\u001b[0m\u001b[0m\n\u001b[1;32m   1564\u001b[0m             \u001b[0;32mif\u001b[0m \u001b[0mself\u001b[0m\u001b[0;34m.\u001b[0m\u001b[0m_drawn_artists\u001b[0m \u001b[0;32mis\u001b[0m \u001b[0;32mNone\u001b[0m\u001b[0;34m:\u001b[0m\u001b[0;34m\u001b[0m\u001b[0m\n",
      "\u001b[0;32m<ipython-input-4-a4837e3b90bc>\u001b[0m in \u001b[0;36manimate\u001b[0;34m(i)\u001b[0m\n\u001b[1;32m     38\u001b[0m \u001b[0;31m#     import pdb; pdb.set_trace()\u001b[0m\u001b[0;34m\u001b[0m\u001b[0;34m\u001b[0m\u001b[0m\n\u001b[1;32m     39\u001b[0m \u001b[0;34m\u001b[0m\u001b[0m\n\u001b[0;32m---> 40\u001b[0;31m     \u001b[0mline1\u001b[0m\u001b[0;34m.\u001b[0m\u001b[0mset_data\u001b[0m\u001b[0;34m(\u001b[0m\u001b[0mtrace\u001b[0m\u001b[0;34m[\u001b[0m\u001b[0;34m'sex[T. Male]'\u001b[0m\u001b[0;34m]\u001b[0m\u001b[0;34m[\u001b[0m\u001b[0;34m:\u001b[0m\u001b[0;34m:\u001b[0m\u001b[0;34m-\u001b[0m\u001b[0;36m1\u001b[0m\u001b[0;34m]\u001b[0m\u001b[0;34m,\u001b[0m \u001b[0mrange\u001b[0m\u001b[0;34m(\u001b[0m\u001b[0mlen\u001b[0m\u001b[0;34m(\u001b[0m\u001b[0mtrace\u001b[0m\u001b[0;34m[\u001b[0m\u001b[0;34m'sex[T. Male]'\u001b[0m\u001b[0;34m]\u001b[0m\u001b[0;34m)\u001b[0m\u001b[0;34m)\u001b[0m\u001b[0;34m)\u001b[0m\u001b[0;34m\u001b[0m\u001b[0m\n\u001b[0m\u001b[1;32m     41\u001b[0m     \u001b[0mline2\u001b[0m\u001b[0;34m.\u001b[0m\u001b[0mset_data\u001b[0m\u001b[0;34m(\u001b[0m\u001b[0mrange\u001b[0m\u001b[0;34m(\u001b[0m\u001b[0mlen\u001b[0m\u001b[0;34m(\u001b[0m\u001b[0mtrace\u001b[0m\u001b[0;34m[\u001b[0m\u001b[0;34m'educ'\u001b[0m\u001b[0;34m]\u001b[0m\u001b[0;34m)\u001b[0m\u001b[0;34m)\u001b[0m\u001b[0;34m,\u001b[0m \u001b[0mtrace\u001b[0m\u001b[0;34m[\u001b[0m\u001b[0;34m'educ'\u001b[0m\u001b[0;34m]\u001b[0m\u001b[0;34m[\u001b[0m\u001b[0;34m:\u001b[0m\u001b[0;34m:\u001b[0m\u001b[0;34m-\u001b[0m\u001b[0;36m1\u001b[0m\u001b[0;34m]\u001b[0m\u001b[0;34m)\u001b[0m\u001b[0;34m\u001b[0m\u001b[0m\n\u001b[1;32m     42\u001b[0m     \u001b[0mline3\u001b[0m\u001b[0;34m.\u001b[0m\u001b[0mset_data\u001b[0m\u001b[0;34m(\u001b[0m\u001b[0mtrace\u001b[0m\u001b[0;34m[\u001b[0m\u001b[0;34m'sex[T. Male]'\u001b[0m\u001b[0;34m]\u001b[0m\u001b[0;34m,\u001b[0m \u001b[0mtrace\u001b[0m\u001b[0;34m[\u001b[0m\u001b[0;34m'educ'\u001b[0m\u001b[0;34m]\u001b[0m\u001b[0;34m)\u001b[0m\u001b[0;34m\u001b[0m\u001b[0m\n",
      "\u001b[0;32m~/anaconda3/envs/data/lib/python3.6/site-packages/pymc3/backends/base.py\u001b[0m in \u001b[0;36m__getitem__\u001b[0;34m(self, idx)\u001b[0m\n\u001b[1;32m    317\u001b[0m         \u001b[0;32mif\u001b[0m \u001b[0mvar\u001b[0m \u001b[0;32min\u001b[0m \u001b[0mself\u001b[0m\u001b[0;34m.\u001b[0m\u001b[0mstat_names\u001b[0m\u001b[0;34m:\u001b[0m\u001b[0;34m\u001b[0m\u001b[0m\n\u001b[1;32m    318\u001b[0m             \u001b[0;32mreturn\u001b[0m \u001b[0mself\u001b[0m\u001b[0;34m.\u001b[0m\u001b[0mget_sampler_stats\u001b[0m\u001b[0;34m(\u001b[0m\u001b[0mvar\u001b[0m\u001b[0;34m,\u001b[0m \u001b[0mburn\u001b[0m\u001b[0;34m=\u001b[0m\u001b[0mburn\u001b[0m\u001b[0;34m,\u001b[0m \u001b[0mthin\u001b[0m\u001b[0;34m=\u001b[0m\u001b[0mthin\u001b[0m\u001b[0;34m)\u001b[0m\u001b[0;34m\u001b[0m\u001b[0m\n\u001b[0;32m--> 319\u001b[0;31m         \u001b[0;32mraise\u001b[0m \u001b[0mKeyError\u001b[0m\u001b[0;34m(\u001b[0m\u001b[0;34m\"Unknown variable %s\"\u001b[0m \u001b[0;34m%\u001b[0m \u001b[0mvar\u001b[0m\u001b[0;34m)\u001b[0m\u001b[0;34m\u001b[0m\u001b[0m\n\u001b[0m\u001b[1;32m    320\u001b[0m \u001b[0;34m\u001b[0m\u001b[0m\n\u001b[1;32m    321\u001b[0m     _attrs = set(['_straces', 'varnames', 'chains', 'stat_names',\n",
      "\u001b[0;31mKeyError\u001b[0m: 'Unknown variable sex[T. Male]'"
     ]
    }
   ],
   "source": [
    "with pm.Model() as logistic_model:\n",
    "    # Again define Bayesian logistic regression model on the following features: sex, age, age_squared, educ, hours\n",
    "    \n",
    "    #### YOUR CODE HERE ####\n",
    "        \n",
    "    data['age_squard'] = data['age'] * data['age']\n",
    "    \n",
    "    # data['male'] = data['sex']==1\n",
    "    data['male'] = 1*(data['sex']==' Male')\n",
    "    \n",
    "    pm.glm.GLM.from_formula('income_more_50K ~ male + age + age_squard + educ + hours',\n",
    "                            data, family=pm.glm.families.Binomial())\n",
    "    \n",
    "    map_estimate = pm.find_MAP()\n",
    "    \n",
    "    # trace = pm.sample(draws=4000, init='adapt_diag')\n",
    "    \n",
    "    ### END OF YOUR CODE ###\n",
    "    step = pm.Metropolis()\n",
    "    iter_sample = pm.iter_sample(2 * samples, step, start=map_estimate)\n",
    "anim = animation.FuncAnimation(fig, animate, init_func=init,\n",
    "                               frames=samples, interval=5, blit=True)\n",
    "HTML(anim.to_html5_video())\n",
    "# Note that generating the video may take a while."
   ]
  },
  {
   "cell_type": "markdown",
   "metadata": {},
   "source": [
    "## Animating NUTS\n",
    "Now rerun the animation providing the NUTS sampling method as the step argument."
   ]
  },
  {
   "cell_type": "code",
   "execution_count": 7,
   "metadata": {},
   "outputs": [
    {
     "name": "stderr",
     "output_type": "stream",
     "text": [
      "logp = -13,449, ||grad|| = 2,152.4: 100%|██████████| 128/128 [00:00<00:00, 205.01it/s]    \n"
     ]
    },
    {
     "data": {
      "text/html": [
       "<video width=\"432\" height=\"432\" controls autoplay loop>\n",
       "  <source type=\"video/mp4\" src=\"data:video/mp4;base64,AAAAHGZ0eXBNNFYgAAACAGlzb21pc28yYXZjMQAAAAhmcmVlAABDNm1kYXQAAAKvBgX//6vcRem9\n",
       "5tlIt5Ys2CDZI+7veDI2NCAtIGNvcmUgMTUyIHIyODU0IGU5YTU5MDMgLSBILjI2NC9NUEVHLTQg\n",
       "QVZDIGNvZGVjIC0gQ29weWxlZnQgMjAwMy0yMDE3IC0gaHR0cDovL3d3dy52aWRlb2xhbi5vcmcv\n",
       "eDI2NC5odG1sIC0gb3B0aW9uczogY2FiYWM9MSByZWY9MyBkZWJsb2NrPTE6MDowIGFuYWx5c2U9\n",
       "MHgzOjB4MTEzIG1lPWhleCBzdWJtZT03IHBzeT0xIHBzeV9yZD0xLjAwOjAuMDAgbWl4ZWRfcmVm\n",
       "PTEgbWVfcmFuZ2U9MTYgY2hyb21hX21lPTEgdHJlbGxpcz0xIDh4OGRjdD0xIGNxbT0wIGRlYWR6\n",
       "b25lPTIxLDExIGZhc3RfcHNraXA9MSBjaHJvbWFfcXBfb2Zmc2V0PS0yIHRocmVhZHM9MTIgbG9v\n",
       "a2FoZWFkX3RocmVhZHM9MiBzbGljZWRfdGhyZWFkcz0wIG5yPTAgZGVjaW1hdGU9MSBpbnRlcmxh\n",
       "Y2VkPTAgYmx1cmF5X2NvbXBhdD0wIGNvbnN0cmFpbmVkX2ludHJhPTAgYmZyYW1lcz0zIGJfcHly\n",
       "YW1pZD0yIGJfYWRhcHQ9MSBiX2JpYXM9MCBkaXJlY3Q9MSB3ZWlnaHRiPTEgb3Blbl9nb3A9MCB3\n",
       "ZWlnaHRwPTIga2V5aW50PTI1MCBrZXlpbnRfbWluPTI1IHNjZW5lY3V0PTQwIGludHJhX3JlZnJl\n",
       "c2g9MCByY19sb29rYWhlYWQ9NDAgcmM9Y3JmIG1idHJlZT0xIGNyZj0yMy4wIHFjb21wPTAuNjAg\n",
       "cXBtaW49MCBxcG1heD02OSBxcHN0ZXA9NCBpcF9yYXRpbz0xLjQwIGFxPTE6MS4wMACAAAAPxmWI\n",
       "hAAn//71sXwKasnzigzoMi7hlyTJrrYi4m0AwAAAAwAFUEq0Xzg3/fjOAADqgARye7Yunf8wExrb\n",
       "D/hMDWg1POyJHX5r6Ur764zjwWYxgUbLCtTNS0iB////53lZiZJlaLVKG18O3ORnaTIhSHsJMUvg\n",
       "xWFRtXBxRVyRTVCogQaPKCr2FVPOxPBpqMvvOqd8oczdtaUFqKgWoBSwc1F2MJ9o57q211X5l5xR\n",
       "khTLdSsDX4i6+z21VOKap1qASTS5G7QXx7MsP2dmdgy3Pp1Fd6tHk4B6P5MjlgJWySMIg+1uEqma\n",
       "vPtqLVvH0hYsNU0d53bX63F3d8L4J53BOIJQdNeh0rvOS8kxH/qKAqt2n3zlPWweLM7PRH4QdwkX\n",
       "jO70cDikOGtdY7SUOXZhcDwupj68koiAbZCuOEOKCRmS/1T7E80z50lU6mx1zaZOFlXVtIsvPeRz\n",
       "RTUKb3ABvIQd3L08Evbg3SQiIduWBM7UE0I8E2ljpzL0NgAjX/LW3gXBUMCGoqyJeZe6YkbsLfUD\n",
       "bHxoL0xJ8vveKtnrkAFHNuGKksJQ7iGXCXcVq3CKXH3ITYzCCjE9j0MKn2eNWcTelM82dh1sKoLq\n",
       "fzt6wCSrfJVIsFmHTIC8LAsM8IPcuFAFYF9P9zXrQ0G2KFAJbeShYv5yP9wAFRpEEAl7Eqo5b6vb\n",
       "wAGh/vo7z+t94bNsLsM8NJYNjtJgywnxB2knoRhLY6+MPMjWiCMiibD1DbquKF7+I+oZxR3ZFqYi\n",
       "+AAMRgyAi8Ut4/jlZdqCD5RcCcFlRYHoYHsbDP/G6bCwsV+YnRG4bB8/ckBpWAJvCNcjMdQWJHkp\n",
       "pDfCDz3s/rRU6hsMGy07xjZ1gBrBKot9LHoIbDAsf3I1xj2Z5PwjNw+F2rgpRONA74RcEmWx4sUx\n",
       "nNVDk65bAoUoYGv3PbC2xTaEOxuum/PH4SH5FcAo9xxyJTbIx8VINCbxhx3lGibulm6pfyV2TyQq\n",
       "dN8l+KjlTZqAtujLeRxQgO9Nm4Rh+WMKkD/fi62oCuJpXDj58mr2zzvO49jqsZNa6Vuz+z16d4rA\n",
       "3dRJkMGcAKsocheZAyo6d5BsyPyd0hTWszjofDzGE7AYWNwDMroUHoL4y8YQhZIYuWtN1LIJPHtO\n",
       "vAeyDZiic0Row5AFLyedOz1tOl/11NEdiajupIj3JHOdfJwP7cHnAC9+/G/gWChoGyOV9+jm2yiW\n",
       "AfDyYnAoBkUbR5/Jl+/w1AiHpbSfuzZkrK/g3ec/3RCagoGDZwAzhg69qGlgZbdBkU6j3o0kuy7y\n",
       "aztv9jsbD8WYE+sG5Cf85KPpj5qDb8U+6Hw0gWI1UcLu77u2NgcCXjxbNhmXuJ+yDbn732bRyZ9a\n",
       "7MKX70+PtrBcYauYprpGvptcnygZF6jcEpEvC8aKSb9rlkcEX8Hxv1Ez7BcaK2gmcj+RRqSDH4Yj\n",
       "4SiyKO+YVT13fag8Eb6EfKGpBUtnW0S3EWGkA8T+Jh/h5XvHVWdiBVJW11cNPpfNSmEWMDW+yDCl\n",
       "goDipSFGfjWNI83E0uuFwDAX43DBleBfhIZsQn6wzUmLKReR5koo1LGoV6I25MVZk8t2Nl4e99Dk\n",
       "q5VqWCcCJJw82sPISVOHXOLb6hZu5bnqEiv96f6sFgqYsOftLJRQEG0LjK5iUGjEoFI6r+hai7Sy\n",
       "1hOQOrFE+h3Mpp3VpKw2hT/ft0qNlKhYH7UHdTRV+tto/3AQKkeB3VDPy2DXbPlvayfBW4tgfPsX\n",
       "Uy3wWe7fEdjMIKbkobQEykcgLz3LNcWDZ7qkiDU9whigcH/SOJlJUOtb0NtGpP5cULD3zVb2DvJm\n",
       "p+R3YPJQPfjZBFWlv6Rc4l5E47qJKZGTO3mLbp39zKooY6DaLimKuTfLe7fDxs9zO3BaCm8xMVAu\n",
       "ffwXG8Fum9VR1ELexcPsuZb/6s+sRo/PptBwQO12flzPj0CJ4tO6+W7I8iD8XqbHYaVBKnjzInmm\n",
       "ePs8pJbKf7dPxvw5gU5HRt7M72XpADoyHLjeFyVSJLV4rmu+dHnOYGhl0QS0+9fs9i1QQ8i5bYWt\n",
       "g4mG49jqDpkRSYPeKAztj0HRXNBiL3PQ4Ke3YyhvdW7Q7UR8WbQkHMbL+YD43rQ5SjiyQQiR0w8A\n",
       "Gw1flctbJzhR++rFxrxh68LQ1OGngnRl598NJD5vk3/nUAHNq5UOM+EZ15TTXS8PJXQ9fq9v1/wp\n",
       "yoBe6VSjpS0EsiHctBV6Ao+THpZfwmg3BiU3/Qip/NzPeDDJL8KbtknD+/4kbigJ01/iYAYY80YP\n",
       "/a83iWe7Bc9WxVgsLmCmtZQd9xCkmK4NsjUpXu983qXdBIIZeOjyercWkwynhEPowrgy8BAPhtut\n",
       "JaX/WCRsqlzWFhGIthK6EXlhh6Ztx3bGAZ21VbCYzmy01rMtf90i8UgveYfE97S97PgtsnKfrEPb\n",
       "MYetKmVZpvi/AcNmSAe8svv132BtL+ScW6ZPYtGt44K7w7wEKjyazl9/CIFS/6nfGAJHKZ4fIBSl\n",
       "8EeyTdwqAfBGnefFP1mgFf56+XiI/XIrdfxINWR49lxuRcB66YXL7Fon9jqpuUYF/Nl5QiMBqtnK\n",
       "VO0PpLzdnvGL4+wiwVMwETPd0w0xZaUj8xIHeqTmaujPpgWkDzw6IwVMgqcVdiEv5hI1PdZsVM6B\n",
       "n7boNERDXkSOUjPJ4Vjx6NxjSmLDsXLmkmNS37JUUMpXLlAMFuggYnrLpFtboVTUlLn0rUYoz0iz\n",
       "TGsF0U0ZbxZ/VetPhW1F4/FQvvWjDVw/M3CPNcwTN07+Uju0W0H68mmj3ShB8RoH2yO5myCWa63Q\n",
       "u8zk9qhpUSw0acSwJxw0JmyM02V2JVzTaoQTalzQVLsuCT+JP/BgUe1De/JdD4ZBrfN4ed11ZNkw\n",
       "HC7tyxRkX52EWGKPkUXJYF+4MXBtMyyR6YCW9PLwdojRlFKoTUYGy/Ijhha9j0vFQJCYsvMNCP8a\n",
       "U2C1uTIrzIDnSnNO9s5AUerALrvhVnLNzx//uuRFWwtsihoOb1USrav0hAs1BmevUsDkF9qn9hxi\n",
       "wU6YVOz3O42xrbNSO6x5fWLvYc6w2KPfWiDQEoHWbQWIZRMII72h9yUl7wzANN/Lk8GUTAjAZY+J\n",
       "uAxjyBI4ulrC04un08MpUopgtNfPQhbtfKjLv9ORkIbmjPFsh+9o+aH4u1R20r3ugNQtcf7rvHJX\n",
       "Hy7Y6zhYU1lGxU3OzyF/yyKWbCH9ZEUGUQ44jB126H8e0zA/tTEyy4xJ7FqOyfIQ2wnxL8IAuy/3\n",
       "uFmJOcpMyyNgGMNfPFuBkIdYtKv8fbCqZ37aMJvoUZ1bKswwfk+JMOFCKL3SG+kowgcwxFeFWaK0\n",
       "ffCq+UvsXe4d9r2iAmoPy2EBnHy5+shPaXCtVCYgNr82MaObWpECL7Maon10ICt5e4gHsE1L3BMu\n",
       "VtwX7IcWkhqzc16t12mID/zAYsv/oLcgeMPt2QBvCu/kPQ8G5rhAhgCc82QWUHnDkumMkX4cF3ny\n",
       "suUnmfFhZS0/PY55g0SjnGkysG4bgD+ePiNo3xhtXWT09dUjOQxeCUQ6AJUheS8QOEbdG2XACZVO\n",
       "VKNYYakakEnmhpsOz76AMCGW2yguv3vjVZ4KmggMwaAL1VndjhWRM5RJZ3fHAzsa///2zmr2Fhur\n",
       "YkxYYrWbl9S0aEp1WolFJsqKz+o9A1/+2DgmhCpefeIjeAw9QCR+T2ZT4Y9tTz9JLTj4/dwR6Dt6\n",
       "8Ik6gK+gKsAfLiXU56sLcOk5LKxGEhNpd3wlmFj+KqWPNNr9DGJprPzm/F7i5fhOG2dkKK4v+Vlr\n",
       "LAGyv5bvZl0rOP8CniUiAXTpHk+GU378BmpjDmXTOknvQzg/F35cR1EXEa3Ym27JppcGJa7AkWkL\n",
       "SGteZxoKnwySMoxzYgzwBtw7YFogbWjsywXM6ZHIXtVkIEthdQKSKzwxNIYRvFxyT4KA1kx5e4JU\n",
       "yDGjrw0+B/+dXuCgXHX9IRYe8pO9IbtsoCTdi4ExdnIxvzAnr+MjTYkN3QWHhBnLMyXTPzIkMPHF\n",
       "5baeQiBzYQHaMfeCoOht4frUP3OO2RpaDO4cSgTna3dO8h7k6p9VvAnau5L9e2LyvgvBYbCFUBKe\n",
       "e3BdpsFShjQj9UNpAilvkrq9HYZIESAXnUt4agjRl00Olplh5MqGkpyIJeCRnl+Sm3JfDN+DDi7T\n",
       "Vqp3+4mK1NmY8GypyclPNkxEvI5WdV9SWGehfE1EE0Nmhgpweo4IUDYYwpc44yo06lmN8ZY1/Ocq\n",
       "STC1ISwEXqwVltgdyE9l98QK8SXJF3si3wtjheJDwpWK6THHfY+9MD04lpO49usfJCh1i82jqVvH\n",
       "yR1+4Y99OscW1DJmN8mnp4mery/5x0tZV6WBpu4fUSylobGnp9ztdlxJ9fnTWyzC/jd1+yoVMoUm\n",
       "s6SzStw+r/yKWjDabAqVXWGW/I11bDlLEqrG2iYRckih21k6+4QhE3S5G5bm8BaGBzajQ68vOLDv\n",
       "5QtE1mEiOw7PoLDwroBhbyBRVqoKyofqRRAaw+RkC0qz14GMmnvdrWOOeq/Icae+nvz4WljX4Jk9\n",
       "+i/4FsEJv32m1o+8aUb0V9SWjyyJ8AiOSEbJUUZ6KVLRt9EZ9/XG9MrfupdlVe4ngdoK/giRrqeK\n",
       "paxYgBf1xyTm23+ThMVKGDyaetKYvN//UI+PWZVIvxBxFwpFR8jqnjMdkRMooTHvMgsLEhn/ratX\n",
       "+Q+k7eB9uFye0cxqP2XWRoVJrQYI1ei2aPWTZKFu0oV79EYi4TD3C5gyY1bJBlcQun3O/ai0GwGC\n",
       "kgldM+G+lgsfKOJW2bsjoMGpS9o1se4aV84SdV/hEy7CvYlvxI5lVAsOiuuXYeXd8pDYUQopnDaD\n",
       "To1eHbWU8cskZDypMUHMo2V5v6UMZqgCfYt3ij3bN0tlck75akcRO5DxN1VEDyxWxe0ODY+lDJFw\n",
       "0co0qqVOibNSJJRN6Y/XMSGgsHibJvyidFQKk5/fOk5sJKj04VSLofe85Dg4flT785f5TuOxoGdP\n",
       "whws2RBCaP/1U4pki8ws9Tn8x0Na2ju6Mn9QwXRvWix53dR2uh3AAAp3iDkMYyEMugAmYc9cvNpi\n",
       "ZmOwiStegRLV6e5uspDSAIEDbKpF/k/A2KzmqyO2JGz4k4ZRR9qKbQWgHTIQe3BDLfhudNIpTzJ1\n",
       "rQqnOQi+nOxyxpgCwc6NPY3gVQ3bnAsGyCVHfSBBKWp1IEpw3OGf5DtJy2i3CWLHlzo81M5i+twm\n",
       "+B9YgrRuqRLoEoiVTibdArCh95K4rh4N2eWVNiRKMAIIR8Drr/pjucwkwnG4xcmiAFnMIdsWwOys\n",
       "kPy1CBIdNYGtol2lJ1m/chontqcXPApAqmmkhz8ROKpDId7RQVvb3xQAEoBUQQAAAGVBmiRsQn/9\n",
       "8QAgyV9oBAkfMonsYRcE+nWaAUsf60nHSObnFU7yLHIAdrkHnTanF/UjMPS1dwncSNnqtY+PSSfD\n",
       "5bTFUEmTXCRZR0ofvBx+Th4OZM8HejyMTkvhkCYfsHModiYzHwAAACJBnkJ4jf8AABKj0a61Dn0G\n",
       "CIOmrlg26+tNdXDrBzAAMzFhAAAAEwGeYXRF/wAAAwLOXabAdi/EfiAAAAARAZ5jakX/AAADAs5d\n",
       "prwViqUAAAAmQZpoSahBaJlMCE///fEAAAMBsfTdqc3uLzHpntX4vfga0OS0uIEAAAAVQZ6GRREs\n",
       "bwAAHPmy1DvR0BWLQ5oTAAAAEQGepXRF/wAAJKSXq251uwytAAAADgGep2pF/wAAAwLWPq/mAAAA\n",
       "FUGarEmoQWyZTAhP//3xAAADAAAi4AAAABNBnspFFSxvAAADAAthVjMY3gbpAAAADAGe6XRF/wAA\n",
       "AwADAgAAAAwBnutqRf8AAAMAAwIAAAAVQZrwSahBbJlMCE///fEAAAMAACLhAAAAE0GfDkUVLG8A\n",
       "AAMAC2FWMxjeBukAAAAMAZ8tdEX/AAADAAMDAAAADAGfL2pF/wAAAwADAgAAABVBmzRJqEFsmUwI\n",
       "T//98QAAAwAAIuAAAAATQZ9SRRUsbwAAAwALYVYzGN4G6QAAAAwBn3F0Rf8AAAMAAwIAAAAMAZ9z\n",
       "akX/AAADAAMCAAAAFUGbeEmoQWyZTAhP//3xAAADAAAi4QAAABNBn5ZFFSxvAAADAAthVjMY3gbo\n",
       "AAAADAGftXRF/wAAAwADAwAAAAwBn7dqRf8AAAMAAwMAAAAVQZu8SahBbJlMCE///fEAAAMAACLg\n",
       "AAAAE0Gf2kUVLG8AAAMAC2FWMxjeBukAAAAMAZ/5dEX/AAADAAMCAAAADAGf+2pF/wAAAwADAwAA\n",
       "ABVBm+BJqEFsmUwIT//98QAAAwAAIuEAAAATQZ4eRRUsbwAAAwALYVYzGN4G6AAAAAwBnj10Rf8A\n",
       "AAMAAwIAAAAMAZ4/akX/AAADAAMDAAAAFUGaJEmoQWyZTAhP//3xAAADAAAi4AAAABNBnkJFFSxv\n",
       "AAADAAthVjMY3gbpAAAADAGeYXRF/wAAAwADAgAAAAwBnmNqRf8AAAMAAwMAAAAVQZpoSahBbJlM\n",
       "CE///fEAAAMAACLhAAAAE0GehkUVLG8AAAMAC2FWMxjeBukAAAAMAZ6ldEX/AAADAAMDAAAADAGe\n",
       "p2pF/wAAAwADAgAAABVBmqxJqEFsmUwIT//98QAAAwAAIuAAAAATQZ7KRRUsbwAAAwALYVYzGN4G\n",
       "6QAAAAwBnul0Rf8AAAMAAwIAAAAMAZ7rakX/AAADAAMCAAAAFUGa8EmoQWyZTAhP//3xAAADAAAi\n",
       "4QAAABNBnw5FFSxvAAADAAthVjMY3gbpAAAADAGfLXRF/wAAAwADAwAAAAwBny9qRf8AAAMAAwIA\n",
       "AAAVQZs0SahBbJlMCE///fEAAAMAACLgAAAAE0GfUkUVLG8AAAMAC2FWMxjeBukAAAAMAZ9xdEX/\n",
       "AAADAAMCAAAADAGfc2pF/wAAAwADAgAAABVBm3hJqEFsmUwIT//98QAAAwAAIuEAAAATQZ+WRRUs\n",
       "bwAAAwALYVYzGN4G6AAAAAwBn7V0Rf8AAAMAAwMAAAAMAZ+3akX/AAADAAMDAAAAFUGbvEmoQWyZ\n",
       "TAhP//3xAAADAAAi4AAAABNBn9pFFSxvAAADAAthVjMY3gbpAAAADAGf+XRF/wAAAwADAgAAAAwB\n",
       "n/tqRf8AAAMAAwMAAAAVQZvgSahBbJlMCE///fEAAAMAACLhAAAAE0GeHkUVLG8AAAMAC2FWMxje\n",
       "BugAAAAMAZ49dEX/AAADAAMCAAAADAGeP2pF/wAAAwADAwAAABVBmiRJqEFsmUwIT//98QAAAwAA\n",
       "IuAAAAATQZ5CRRUsbwAAAwALYVYzGN4G6QAAAAwBnmF0Rf8AAAMAAwIAAAAMAZ5jakX/AAADAAMD\n",
       "AAAAFUGaaEmoQWyZTAhP//3xAAADAAAi4QAAABNBnoZFFSxvAAADAAthVjMY3gbpAAAADAGepXRF\n",
       "/wAAAwADAwAAAAwBnqdqRf8AAAMAAwIAAAAVQZqsSahBbJlMCE///fEAAAMAACLgAAAAE0GeykUV\n",
       "LG8AAAMAC2FWMxjeBukAAAAMAZ7pdEX/AAADAAMCAAAADAGe62pF/wAAAwADAgAAABVBmvBJqEFs\n",
       "mUwIT//98QAAAwAAIuEAAAATQZ8ORRUsbwAAAwALYVYzGN4G6QAAAAwBny10Rf8AAAMAAwMAAAAM\n",
       "AZ8vakX/AAADAAMCAAAAFUGbNEmoQWyZTAhP//3xAAADAAAi4AAAABNBn1JFFSxvAAADAAthVjMY\n",
       "3gbpAAAADAGfcXRF/wAAAwADAgAAAAwBn3NqRf8AAAMAAwIAAAAVQZt4SahBbJlMCE///fEAAAMA\n",
       "ACLhAAAAE0GflkUVLG8AAAMAC2FWMxjeBugAAAAMAZ+1dEX/AAADAAMDAAAADAGft2pF/wAAAwAD\n",
       "AwAAABVBm7xJqEFsmUwIT//98QAAAwAAIuAAAAATQZ/aRRUsbwAAAwALYVYzGN4G6QAAAAwBn/l0\n",
       "Rf8AAAMAAwIAAAAMAZ/7akX/AAADAAMDAAAAFUGb4EmoQWyZTAhP//3xAAADAAAi4QAAABNBnh5F\n",
       "FSxvAAADAAthVjMY3gboAAAADAGePXRF/wAAAwADAgAAAAwBnj9qRf8AAAMAAwMAAAAVQZokSahB\n",
       "bJlMCE///fEAAAMAACLgAAAAE0GeQkUVLG8AAAMAC2FWMxjeBukAAAAMAZ5hdEX/AAADAAMCAAAA\n",
       "DAGeY2pF/wAAAwADAwAAABVBmmhJqEFsmUwIT//98QAAAwAAIuEAAAATQZ6GRRUsbwAAAwALYVYz\n",
       "GN4G6QAAAAwBnqV0Rf8AAAMAAwMAAAAMAZ6nakX/AAADAAMCAAAAFUGarEmoQWyZTAhP//3xAAAD\n",
       "AAAi4AAAABNBnspFFSxvAAADAAthVjMY3gbpAAAADAGe6XRF/wAAAwADAgAAAAwBnutqRf8AAAMA\n",
       "AwIAAAAVQZrwSahBbJlMCE///fEAAAMAACLhAAAAE0GfDkUVLG8AAAMAC2FWMxjeBukAAAAMAZ8t\n",
       "dEX/AAADAAMDAAAADAGfL2pF/wAAAwADAgAAABVBmzRJqEFsmUwIT//98QAAAwAAIuAAAAATQZ9S\n",
       "RRUsbwAAAwALYVYzGN4G6QAAAAwBn3F0Rf8AAAMAAwIAAAAMAZ9zakX/AAADAAMCAAAAFUGbeEmo\n",
       "QWyZTAhP//3xAAADAAAi4QAAABNBn5ZFFSxvAAADAAthVjMY3gboAAAADAGftXRF/wAAAwADAwAA\n",
       "AAwBn7dqRf8AAAMAAwMAAAAVQZu8SahBbJlMCE///fEAAAMAACLgAAAAE0Gf2kUVLG8AAAMAC2FW\n",
       "MxjeBukAAAAMAZ/5dEX/AAADAAMCAAAADAGf+2pF/wAAAwADAwAAABVBm+BJqEFsmUwIT//98QAA\n",
       "AwAAIuEAAAATQZ4eRRUsbwAAAwALYVYzGN4G6AAAAAwBnj10Rf8AAAMAAwIAAAAMAZ4/akX/AAAD\n",
       "AAMDAAAAFUGaJEmoQWyZTAhP//3xAAADAAAi4AAAABNBnkJFFSxvAAADAAthVjMY3gbpAAAADAGe\n",
       "YXRF/wAAAwADAgAAAAwBnmNqRf8AAAMAAwMAAAAVQZpoSahBbJlMCE///fEAAAMAACLhAAAAE0Ge\n",
       "hkUVLG8AAAMAC2FWMxjeBukAAAAMAZ6ldEX/AAADAAMDAAAADAGep2pF/wAAAwADAgAAABVBmqxJ\n",
       "qEFsmUwIT//98QAAAwAAIuAAAAATQZ7KRRUsbwAAAwALYVYzGN4G6QAAAAwBnul0Rf8AAAMAAwIA\n",
       "AAAMAZ7rakX/AAADAAMCAAAAFUGa8EmoQWyZTAhP//3xAAADAAAi4QAAABNBnw5FFSxvAAADAAth\n",
       "VjMY3gbpAAAADAGfLXRF/wAAAwADAwAAAAwBny9qRf8AAAMAAwIAAAAVQZs0SahBbJlMCE///fEA\n",
       "AAMAACLgAAAAE0GfUkUVLG8AAAMAC2FWMxjeBukAAAAMAZ9xdEX/AAADAAMCAAAADAGfc2pF/wAA\n",
       "AwADAgAAABVBm3hJqEFsmUwIT//98QAAAwAAIuEAAAATQZ+WRRUsbwAAAwALYVYzGN4G6AAAAAwB\n",
       "n7V0Rf8AAAMAAwMAAAAMAZ+3akX/AAADAAMDAAAAFUGbvEmoQWyZTAhP//3xAAADAAAi4AAAABNB\n",
       "n9pFFSxvAAADAAthVjMY3gbpAAAADAGf+XRF/wAAAwADAgAAAAwBn/tqRf8AAAMAAwMAAAAVQZvg\n",
       "SahBbJlMCE///fEAAAMAACLhAAAAE0GeHkUVLG8AAAMAC2FWMxjeBugAAAAMAZ49dEX/AAADAAMC\n",
       "AAAADAGeP2pF/wAAAwADAwAAABVBmiRJqEFsmUwIT//98QAAAwAAIuAAAAATQZ5CRRUsbwAAAwAL\n",
       "YVYzGN4G6QAAAAwBnmF0Rf8AAAMAAwIAAAAMAZ5jakX/AAADAAMDAAAAFUGaaEmoQWyZTAhP//3x\n",
       "AAADAAAi4QAAABNBnoZFFSxvAAADAAthVjMY3gbpAAAADAGepXRF/wAAAwADAwAAAAwBnqdqRf8A\n",
       "AAMAAwIAAAAVQZqsSahBbJlMCE///fEAAAMAACLgAAAAE0GeykUVLG8AAAMAC2FWMxjeBukAAAAM\n",
       "AZ7pdEX/AAADAAMCAAAADAGe62pF/wAAAwADAgAAABVBmvBJqEFsmUwIT//98QAAAwAAIuEAAAAT\n",
       "QZ8ORRUsbwAAAwALYVYzGN4G6QAAAAwBny10Rf8AAAMAAwMAAAAMAZ8vakX/AAADAAMCAAAAFUGb\n",
       "NEmoQWyZTAhP//3xAAADAAAi4AAAABNBn1JFFSxvAAADAAthVjMY3gbpAAAADAGfcXRF/wAAAwAD\n",
       "AgAAAAwBn3NqRf8AAAMAAwIAAAAVQZt4SahBbJlMCE///fEAAAMAACLhAAAAE0GflkUVLG8AAAMA\n",
       "C2FWMxjeBugAAAAMAZ+1dEX/AAADAAMDAAAADAGft2pF/wAAAwADAwAAABVBm7xJqEFsmUwIT//9\n",
       "8QAAAwAAIuAAAAATQZ/aRRUsbwAAAwALYVYzGN4G6QAAAAwBn/l0Rf8AAAMAAwIAAAAMAZ/7akX/\n",
       "AAADAAMDAAAAFUGb4EmoQWyZTAhP//3xAAADAAAi4QAAABNBnh5FFSxvAAADAAthVjMY3gboAAAA\n",
       "DAGePXRF/wAAAwADAgAAAAwBnj9qRf8AAAMAAwMAAAAVQZokSahBbJlMCE///fEAAAMAACLgAAAA\n",
       "E0GeQkUVLG8AAAMAC2FWMxjeBukAAAAMAZ5hdEX/AAADAAMCAAAADAGeY2pF/wAAAwADAwAAABVB\n",
       "mmhJqEFsmUwIT//98QAAAwAAIuEAAAATQZ6GRRUsbwAAAwALYVYzGN4G6QAAAAwBnqV0Rf8AAAMA\n",
       "AwMAAAAMAZ6nakX/AAADAAMCAAAAFUGarEmoQWyZTAhP//3xAAADAAAi4AAAABNBnspFFSxvAAAD\n",
       "AAthVjMY3gbpAAAADAGe6XRF/wAAAwADAgAAAAwBnutqRf8AAAMAAwIAAAAVQZrwSahBbJlMCE//\n",
       "/fEAAAMAACLhAAAAE0GfDkUVLG8AAAMAC2FWMxjeBukAAAAMAZ8tdEX/AAADAAMDAAAADAGfL2pF\n",
       "/wAAAwADAgAAABVBmzRJqEFsmUwIT//98QAAAwAAIuAAAAATQZ9SRRUsbwAAAwALYVYzGN4G6QAA\n",
       "AAwBn3F0Rf8AAAMAAwIAAAAMAZ9zakX/AAADAAMCAAAAFUGbeEmoQWyZTAhP//3xAAADAAAi4QAA\n",
       "ABNBn5ZFFSxvAAADAAthVjMY3gboAAAADAGftXRF/wAAAwADAwAAAAwBn7dqRf8AAAMAAwMAAAAV\n",
       "QZu8SahBbJlMCE///fEAAAMAACLgAAAAE0Gf2kUVLG8AAAMAC2FWMxjeBukAAAAMAZ/5dEX/AAAD\n",
       "AAMCAAAADAGf+2pF/wAAAwADAwAAABVBm+BJqEFsmUwIT//98QAAAwAAIuEAAAATQZ4eRRUsbwAA\n",
       "AwALYVYzGN4G6AAAAAwBnj10Rf8AAAMAAwIAAAAMAZ4/akX/AAADAAMDAAAAFUGaJEmoQWyZTAhP\n",
       "//3xAAADAAAi4AAAABNBnkJFFSxvAAADAAthVjMY3gbpAAAADAGeYXRF/wAAAwADAgAAAAwBnmNq\n",
       "Rf8AAAMAAwMAAAAVQZpoSahBbJlMCE///fEAAAMAACLhAAAAE0GehkUVLG8AAAMAC2FWMxjeBukA\n",
       "AAAMAZ6ldEX/AAADAAMDAAAADAGep2pF/wAAAwADAgAAABVBmqxJqEFsmUwIT//98QAAAwAAIuAA\n",
       "AAATQZ7KRRUsbwAAAwALYVYzGN4G6QAAAAwBnul0Rf8AAAMAAwIAAAAMAZ7rakX/AAADAAMCAAAA\n",
       "FUGa8EmoQWyZTAhP//3xAAADAAAi4QAAABNBnw5FFSxvAAADAAthVjMY3gbpAAAADAGfLXRF/wAA\n",
       "AwADAwAAAAwBny9qRf8AAAMAAwIAAAAVQZs0SahBbJlMCE///fEAAAMAACLgAAAAE0GfUkUVLG8A\n",
       "AAMAC2FWMxjeBukAAAAMAZ9xdEX/AAADAAMCAAAADAGfc2pF/wAAAwADAgAAABVBm3hJqEFsmUwI\n",
       "T//98QAAAwAAIuEAAAATQZ+WRRUsbwAAAwALYVYzGN4G6AAAAAwBn7V0Rf8AAAMAAwMAAAAMAZ+3\n",
       "akX/AAADAAMDAAAAE0GbuUmoQWyZTAi/+lgAAAMAAasAABGCZYiCAAz//vbsvgU1/Z/QlxEsxdpK\n",
       "cD4qpICAdzTAAAADAAB4HShe6DhKq9DAABtwAHwj+3LNZ/mAmOpdHk9DQnTEGkWrbxeSzI0gwoss\n",
       "Sevrx73TJGKX1POGB3///CR33FNGkQtSeBc8p9hpK36mJmrJIa+cg45vL8XXTp1IFTV5hmmAEcLC\n",
       "qVzlqYKhuNT3OkN3VQnLA+dMjfHRvQi5m6vj8hFRz5+TxdM+Z17xP4mo7yWe4CTrhJny846NpIJj\n",
       "Nd9BYtwmGxjWq8AEvjFb4dBRm7nOtvcDPI+hWZnhtv4xzXOvianvOSAC0AGqw4+34vT8Wljlo2vq\n",
       "vNm1d6CyEgHUqYsdNsecu67B1p02wGi/pJjzeQKbTwV4+ICgsP+t9uchFetPmRxtteoydBPsAQ82\n",
       "d2jXtd1G6aea3ojgt7z23NWcYRy4QF+30otdih2zqU9QmmB9Fp2w5jKoDRswegCvG4EV6RmRsJEA\n",
       "Cp+HeGpng7vBrZVPYb5kovZ63LNl4rFkrR4CDuRdqKHSpo7SZ9ADoZyVz5TrPfHOdmG9dsKTnCmr\n",
       "lUcX05TvmDVHUotBRo9T8j2eUi17yKnrlUYHGi7pix7V/xFVVyMLoxmuXNelpy/43+GZEJbcO9To\n",
       "Q0k+eQ6CEnkDc29fwF/NcOU0QFfULKvH0PStiVNE2aPeVwtzMrn10JeLWIauaoJdcD6Yd/nI/3AA\n",
       "XGIaGCcfajw2NJJdLQxXZVDtHj1qXi7+nrIasKvHA2feXP07+OBOD9Hdjqf3/ZCjUG1gi2DGsrO7\n",
       "iLKNEOSNkpI76UaiqVFw7WFdD5SSAAtszl505aWKln2hbM37w4F5loqsz8Hsl9KV8H/I/xumw4VD\n",
       "EkGpG9wldTQiDkjb9ianaPlkYGVj114jw2rdaIa2HoVUU5kxxZIVPT+9zAoMZLC85qAb272CfU1M\n",
       "NCPOgmyay1xXq5k3ZSx2weBK3yXifEV/FedIR292nfKvKR65uvVMxGtCWILqdn8bXCz4NL1EKekq\n",
       "vCvSzN1bV8hW6cciU2iMb6XGG2UxOKMJsJTP6ZP4faBBlpVCv4cm5xnOfDTm/j2RPDCVCgHUP4Kt\n",
       "Savpqf2cibTtN5Hwfvu5LsXVSztW667748xLGlKNpo90/qteVd4FfDrwUUOo172BnZpnYAG79G6E\n",
       "yF5fLlr5maEzsjBbWvRoLydMRW2db14gCXc2OFYvxyW0Ffs1dPev15OTQN/9YU627PC+9R8Tv+lN\n",
       "bfp/whnme2jBg544RtXjb1Zxy+hVCg87wmQp+ZBuaYLjNWCK4O2lyefWRwQpteWbXxXQH0ngw5yf\n",
       "PO4Z+a5bw5UtJZNxHlrq6NiDB67IyEPNf+4BmFkUTv6d6IovzVPPCkLClg14Lx62bHdIxT0esWh1\n",
       "JWPmGOlg9Ab2yWWLuWk8vnXA0Oi/XgDBkO83GFOgT0fUYYRRIRbqrO6TSfj+zoBZmPwksIGV1yMN\n",
       "c9kEobIrGNeNE3miQZu7yedY+4+FuE2lkIJboO8BrQ1TSfRMvionI3nLL+c6Cyyjuyg2ijL32lwl\n",
       "Wp0/sDO3zgL3Lz2yPXuIg7Oy+9g/ra4qqy/xpNDjJtrfnGgYs5pNCg3fg9T4QnyrlxhnCqIb3haM\n",
       "w4x/3e0fJNLxGudGgej9zBOx7tIH8BlhJC68+CCBo6EDue1OhlsYPiKin9yjsBzqYBAcb7W/Ocyv\n",
       "vRuQ+bglEGaX2SquqYPZICdd/aHA3OMZHSUKes0VM/km/uch21Gol657Q6yjsWAhin+rnhMBUlwR\n",
       "zv45h+XxL7x5595lC9wuY1C04oHQU16Ba686UpVqYvNqSeL872NDVqxW7ECtaBED9XuJHbxqHCcg\n",
       "O4GEw/TCX/sA1lIi1f6De+PBHu9xVkP6RjGpzCHe0+CZpqEAl6xLVtiADhGMhsLg3ZlivlaXDl/t\n",
       "mmEn8yHGU/EEVj0+LOcAOE1ZDjJeFOlin1wHq786UOoUxTLe0NswanhXDqNBxMTcNKpFHpVKb/Uz\n",
       "klF7Fha2h1C9H0i8b2odwjKacqXOPprYfKXxujJlURNUlds6++heWliu12xbNqVw/PvXQ9h9UTXb\n",
       "nxlQmpNJWDyfHcOurtMe9RGw+cY/+I0sYtvC/z0mmqUJzcRZVUMzRgliixucNUTj4MmS9nQ1eOP0\n",
       "pvsYQRT1ueTlqsHM+GTKUt4n0JVu7hJ4NxkiYQiRU7FTIzptD7bG/XMhe7DEF3YNeHgTy3VsBdei\n",
       "KNUOxGFILyGp+Sr7uh5olKlTTlzFpgcpIKMSj/GBEfI+mqfJMj6NRDDWswkGczr7/h3w9EzsZJTn\n",
       "WRZrrA34mVgIr8HcQc5t34E19Paw2+GwsXG7IH674Tkb0ny0fqkvGDq7PLfhYTp15PpVZYjv2EiS\n",
       "ijGnmDxfopTfa6Zk789JopqgugswCJ0V7CoQAFCj7j+kVAsm+WcEWHH3RYHwzeNPqZT0xL6nndZW\n",
       "l8XQFtB2GDZALbSPK23Qw3riVXJx8420haTNBHuo11RIMapr3vsXU6GiUfzZmWgaJI0ryNTSZKS1\n",
       "lFtW74Ah/q0opL4lpdSqs5el2+bWlLqZ75QNmUyN+x2aTuDcoMmQe3zRmPVVgacpVCR22qQ1zVqT\n",
       "lpP/q2zLacsDB5ZTtN7GNnOGQXYB51U8IlmN5wD9nbDv1Wjkt7lYvU1pTpoD+3ICzfnmk48up6fg\n",
       "p/PiNKKqBInxNOuFHR5FTm8PtakL5jicnXf1syrhyfGdv69j/rmhRMZQDqV2/GEU0MJK3SveaRhE\n",
       "y1CDxPf5xxAD5R3d0altxKZPz8iV+mPcAzkjRarKtxqqCjl1PMXBOH5eovKlA8dJnN8ehrkKKP9e\n",
       "o2vyRlXAgABvR55W9F2QCQsxslr01eWKvhLGNa4rRqP47tOBBna7e3ChplNahPbzmUDptloiB8P9\n",
       "7CMcss8ozKThBPXw/vdwp8iXSVSx7ZfhQ7WdeCOAooIm0zH2VWwGZ+xyYRoBhNPd8AK9I/w2lcsW\n",
       "NmgAAGy5So0lguidPITcPVed0AOUxCbS4VmjX9NJ1cnw2tBDiz2FpMqMx5C26aCSJChIexH20go3\n",
       "zsnUnCSPJzqopcggXZnP9hfGp5y+gUjxtsWa2xcc6AmWryrshM0+Y9A+yfvdb7Pjm1BsJmM8eibc\n",
       "Mp7Y/irixJ7tOkfsUORQx3bUhXBSE22RvFgtUxC+FbEyfxRp0AV+S6PjHpvrT+NwG1NaZ+lTZsf+\n",
       "cnohvmwJ5y127tgWBH8zpcb5WJzLw4civ2vrtOwJzJ/NvzhWVZVoomp1htEJjsSIXJ7BDrSGRlkV\n",
       "7KaVVjfXvhVHH4vxdXyk//7i4Wxsx27fAwxKv51DDh1sh5WsmtRAmtOeurfIx04pWu1tlZRA1N/4\n",
       "9dfhLTWtIo3TuI9puQs3B4UJTk6q/4xmtVXCTc1/E8xNjjQApZO6K8ZC8Gg0DtoYNDLmiCYcu/k9\n",
       "8HdhUqQYPr7IdWtJrffo9IQLG0vHoNaWmf5K8m4BjaP4+/VbWG5AQ5X5Hzz/tBeORcJ1/93Ec+Cl\n",
       "83B+RLsp67yEF5VAAKI3ECAQGiWNuUjIP/w92TBNgtbljq2reCdmW4xEr4u8Twsza81zgDwHpKNr\n",
       "p/I75VEM3zguB5hm428oa3LdFukbaGs9moqnDujPgHBThKO0DWd3lGucMfW426Xu90Si0pDXp4k3\n",
       "LPTGyUFg5JdMB+iik1+6skcLrNzH1f/M1itzq8c7K/CjAT7IQPizi+oCdczcVOUyUXgFqBr5c3JW\n",
       "Ny2VvWQZJ0F1N8JZ4jVjO7L5YDjbgTb0PZQHu6oHr36isxPtT6FguV8y93QYnspHJ2HTGl6cfs3C\n",
       "MWE4e0xzTIy60emRk1NbB95AoS9YlqVbx6xuKqopKSGCJh+tCz+qrPwrnMLS3fArBCT1MxuJ1/XU\n",
       "0ZiHJTGPn3vrwoBgKHA+ggjOqvGVf4YciWIA5aMhMx3GQMZWIRAoKFt3Jhthjz+GDF3+5J/Yjmjj\n",
       "HweIrhKoZ3DMwCdVrO1uajK4KakF/CuzaOp4aZS8rWkmkbMlXC9/jSZzYx3FIZswBtQTkND4ioy0\n",
       "BctnDCb/VZEZut70xHScX/TsSzhxbKq1yu1l5IHbDHDaLuIM6iM94ZPGa3jlf/+GAjMlggk6EBve\n",
       "7dOWHqQEKCb/dx4d+WJ1GQAr0rBey2876SxyeWyX++CEjEGRoGgdOFImy+BuN/BnnOPUDe6UbBuI\n",
       "G/8biN1EkT7Y6HZXKJZKgMgy9i+YFB27TBZkAv/kSG6HcQ/IfpWEgSeTJAAhIzqVxyt4bTYPmNfX\n",
       "fpZiIx4xYkpgHz8AKJjQVAQ+3/XaMvfzA26cfY1dpvyab05PjcudpmZag3U/2zIDrQNViqyRiH7G\n",
       "eIh9YMikgIg3HzWNax8Pv+0xpBCOsZuyHrcisbAu+nrXGAPcs7MBIitPeciobXl0aRnx524uu0AB\n",
       "zGEZb80W+tXc6Z/64YwYrtI/JqAHv5KYJH3iJ3Iupp66xqhI4vQX3kHQJTWG7UEuQvb27OryoKR2\n",
       "Yafnr77qYWm9ID8qvnPrGjpY0LHe9A4u+A8qNjZzkcuzgSFhLbNBGTLLWYk1IkHhGgqB2tP2Yvrp\n",
       "Q4DBhaL3lo2DOYea766sf2/Y7TrhYzdNNd4RZQ1hlgAehTXosl2Ohm7jg4iE4gselXBVRlOTU/AE\n",
       "dFrglsagm4s91ON0X2lcZvV/y5SS5OmmKf044cKRte6gzi6qFFLpBbm0q+acjI/MlXHXQ/7+bx1c\n",
       "2hpqfrMX4ZMYHr6gesJIoIwBG358VlqEmjPSStHw0k1wTASjEGg1ez8wmIfTd0hQxG6YJYqM2r6Q\n",
       "PSupXW9IDlOXgB+sM8tbbEoiafO8StyA45ovJwTc5HHL8fOUJrIH9lNfmHUVrQbgpUlhRmxyJ0gi\n",
       "W0ukVtEx36WrJ9yf+QrEnHgvGrJ70PqtDw1AFOSAfc8t0PstFy9Vb9oLsQAtNIOQyyvRhrIG7RBZ\n",
       "1L8DQhMMi5L7sn4oeGXVEYnjYvbuVceAzID0dDgbhJhUAvm6h4LubthTrS7TFcjKXRkCjOg37TcA\n",
       "pTDTnY9sUGoh0TOSl16sXI46r0mAcIXyTVE/VGAYxSaxOG6l63IDBfgpGS+SBLo6IGq0OeNN+S2P\n",
       "v7UM0rN42aAjUqoOEscKx76kCYc1oudwuMGEZOSBNUk5pWbkoHlEx6IjlyMoFoAGhRPnx1H6Uete\n",
       "ajeqHhnPHH7nQ0Nj6wuX3SlodpINTUWJ/s62dv6dTW7dMxkei5wZ4m15NtLz5vfs21scMvHz+g9u\n",
       "WMYc0MOAe0Wq4TQ5owwOBjCIEdjPe8fa1P6SFV5NRTCQmIyUwZR4AEdqazHbuJI2O/CQhCL6P7+F\n",
       "Bm1we2ZKTLmtHw8toSMK/aeq3VNioDUUoZU1hKRwmMSTYP+UH24I8iCz5JGRju13UYLG8orJAAQz\n",
       "bs8APJoCuQMA+TC49VROjyYFb8cpargp6wYvxtTlBG1ayoFJgEs0oVqUMRHftFG9wqIS6HhDaGjy\n",
       "quljBbKC/ZieRIcV5kuJLwcevN0O2/N0nl90yZTtuuDU8uuIz57vqHrmmeQjQC7FIIPhQmmeUB7n\n",
       "i+PzAIl742HN+1xmK+k7ltZQlLMz57D35YwjBJ1iuSS7Ic8zW7V14HHAAAF21ImVn1xrJORKlLAS\n",
       "VWrteIzKdpbdrHjcoAsr35gKtO7Wk8NOwM2v6tUvpJSjrqX/OHTNDjhnKmzsr7TrrORTWrVvWCzG\n",
       "w+ZUPHqph7joIUMgG2+W/x1vfwyylrwgFpLD6FZQga/ElENOICmx2Fvft03C0+VXh1f92mY9AvPP\n",
       "NQQGv8vOQX+iSHc3/etD19abhJAS8ab03sc+WipzoVVzWKa38SS0B71zTATpp7DXROL7KBi4Hwud\n",
       "/d8MyHKCEBO997gddLDE9p62l/uR97Amitu//l4cskyDmzMuJdbeLZ/dIE5NQdkrxT4bsn6RQnPj\n",
       "h/zgacYzxG/UGZAUIALzAAAATkGaJGxCf/3xAAAIKlVoAz3z/Qoz8f9KTYRUzQWnfsIA/3jZybJN\n",
       "ZkjNYnxSYMPm9+/B64l6RnxPo9OHrHRIOgaCSu4tv3/8v6bKAdXt3gAAABZBnkJ4jf8AABxIabEo\n",
       "xPNZtZVjssvRAAAAGwGeYXRF/wAAJEGVRn8wAm28Ieyaxb6xzxRSYQAAABUBnmNqRf8AACRBlUZ7\n",
       "nNpm1s7+h0AAAAAbQZpoSahBaJlMCE///fEAAAMBnfda78DdVAZWAAAAEEGehkURLG8AABueIA97\n",
       "v7sAAAAPAZ6ldEX/AAAipJfLbnBtAAAADgGep2pF/wAAAwLWPq/nAAAAFUGarEmoQWyZTAhP//3x\n",
       "AAADAAAi4AAAAA1BnspFFSxvAAADAAJfAAAADAGe6XRF/wAAAwADAwAAAAwBnutqRf8AAAMAAwMA\n",
       "AAAVQZrwSahBbJlMCE///fEAAAMAACLhAAAADUGfDkUVLG8AAAMAAl4AAAAMAZ8tdEX/AAADAAMC\n",
       "AAAADAGfL2pF/wAAAwADAwAAABVBmzRJqEFsmUwIT//98QAAAwAAIuAAAAANQZ9SRRUsbwAAAwAC\n",
       "XgAAAAwBn3F0Rf8AAAMAAwMAAAAMAZ9zakX/AAADAAMDAAAAFUGbeEmoQWyZTAhP//3xAAADAAAi\n",
       "4QAAAA1Bn5ZFFSxvAAADAAJeAAAADAGftXRF/wAAAwADAgAAAAwBn7dqRf8AAAMAAwMAAAAVQZu8\n",
       "SahBbJlMCE///fEAAAMAACLgAAAADUGf2kUVLG8AAAMAAl4AAAAMAZ/5dEX/AAADAAMDAAAADAGf\n",
       "+2pF/wAAAwADAgAAABVBm+BJqEFsmUwIT//98QAAAwAAIuEAAAANQZ4eRRUsbwAAAwACXwAAAAwB\n",
       "nj10Rf8AAAMAAwIAAAAMAZ4/akX/AAADAAMDAAAAFUGaJEmoQWyZTAhP//3xAAADAAAi4AAAAA1B\n",
       "nkJFFSxvAAADAAJfAAAADAGeYXRF/wAAAwADAwAAAAwBnmNqRf8AAAMAAwIAAAAVQZpoSahBbJlM\n",
       "CE///fEAAAMAACLgAAAADUGehkUVLG8AAAMAAl8AAAAMAZ6ldEX/AAADAAMCAAAADAGep2pF/wAA\n",
       "AwADAwAAABVBmqxJqEFsmUwIT//98QAAAwAAIuAAAAANQZ7KRRUsbwAAAwACXwAAAAwBnul0Rf8A\n",
       "AAMAAwMAAAAMAZ7rakX/AAADAAMDAAAAFUGa8EmoQWyZTAhP//3xAAADAAAi4QAAAA1Bnw5FFSxv\n",
       "AAADAAJeAAAADAGfLXRF/wAAAwADAgAAAAwBny9qRf8AAAMAAwMAAAAVQZs0SahBbJlMCE///fEA\n",
       "AAMAACLgAAAADUGfUkUVLG8AAAMAAl4AAAAMAZ9xdEX/AAADAAMDAAAADAGfc2pF/wAAAwADAwAA\n",
       "ABVBm3hJqEFsmUwIT//98QAAAwAAIuEAAAANQZ+WRRUsbwAAAwACXgAAAAwBn7V0Rf8AAAMAAwIA\n",
       "AAAMAZ+3akX/AAADAAMDAAAAFUGbvEmoQWyZTAhP//3xAAADAAAi4AAAAA1Bn9pFFSxvAAADAAJe\n",
       "AAAADAGf+XRF/wAAAwADAwAAAAwBn/tqRf8AAAMAAwIAAAAVQZvgSahBbJlMCE///fEAAAMAACLh\n",
       "AAAADUGeHkUVLG8AAAMAAl8AAAAMAZ49dEX/AAADAAMCAAAADAGeP2pF/wAAAwADAwAAABVBmiRJ\n",
       "qEFsmUwIT//98QAAAwAAIuAAAAANQZ5CRRUsbwAAAwACXwAAAAwBnmF0Rf8AAAMAAwMAAAAMAZ5j\n",
       "akX/AAADAAMCAAAAFUGaaEmoQWyZTAhP//3xAAADAAAi4AAAAA1BnoZFFSxvAAADAAJfAAAADAGe\n",
       "pXRF/wAAAwADAgAAAAwBnqdqRf8AAAMAAwMAAAAVQZqsSahBbJlMCE///fEAAAMAACLgAAAADUGe\n",
       "ykUVLG8AAAMAAl8AAAAMAZ7pdEX/AAADAAMDAAAADAGe62pF/wAAAwADAwAAABVBmvBJqEFsmUwI\n",
       "T//98QAAAwAAIuEAAAANQZ8ORRUsbwAAAwACXgAAAAwBny10Rf8AAAMAAwIAAAAMAZ8vakX/AAAD\n",
       "AAMDAAAAFUGbNEmoQWyZTAhP//3xAAADAAAi4AAAAA1Bn1JFFSxvAAADAAJeAAAADAGfcXRF/wAA\n",
       "AwADAwAAAAwBn3NqRf8AAAMAAwMAAAAVQZt4SahBbJlMCE///fEAAAMAACLhAAAADUGflkUVLG8A\n",
       "AAMAAl4AAAAMAZ+1dEX/AAADAAMCAAAADAGft2pF/wAAAwADAwAAABVBm7xJqEFsmUwIT//98QAA\n",
       "AwAAIuAAAAANQZ/aRRUsbwAAAwACXgAAAAwBn/l0Rf8AAAMAAwMAAAAMAZ/7akX/AAADAAMCAAAA\n",
       "FUGb4EmoQWyZTAhP//3xAAADAAAi4QAAAA1Bnh5FFSxvAAADAAJfAAAADAGePXRF/wAAAwADAgAA\n",
       "AAwBnj9qRf8AAAMAAwMAAAAVQZokSahBbJlMCE///fEAAAMAACLgAAAADUGeQkUVLG8AAAMAAl8A\n",
       "AAAMAZ5hdEX/AAADAAMDAAAADAGeY2pF/wAAAwADAgAAABVBmmhJqEFsmUwIT//98QAAAwAAIuAA\n",
       "AAANQZ6GRRUsbwAAAwACXwAAAAwBnqV0Rf8AAAMAAwIAAAAMAZ6nakX/AAADAAMDAAAAFUGarEmo\n",
       "QWyZTAhP//3xAAADAAAi4AAAAA1BnspFFSxvAAADAAJfAAAADAGe6XRF/wAAAwADAwAAAAwBnutq\n",
       "Rf8AAAMAAwMAAAAVQZrwSahBbJlMCE///fEAAAMAACLhAAAADUGfDkUVLG8AAAMAAl4AAAAMAZ8t\n",
       "dEX/AAADAAMCAAAADAGfL2pF/wAAAwADAwAAABVBmzRJqEFsmUwIT//98QAAAwAAIuAAAAANQZ9S\n",
       "RRUsbwAAAwACXgAAAAwBn3F0Rf8AAAMAAwMAAAAMAZ9zakX/AAADAAMDAAAAFUGbeEmoQWyZTAhP\n",
       "//3xAAADAAAi4QAAAA1Bn5ZFFSxvAAADAAJeAAAADAGftXRF/wAAAwADAgAAAAwBn7dqRf8AAAMA\n",
       "AwMAAAAVQZu8SahBbJlMCE///fEAAAMAACLgAAAADUGf2kUVLG8AAAMAAl4AAAAMAZ/5dEX/AAAD\n",
       "AAMDAAAADAGf+2pF/wAAAwADAgAAABVBm+BJqEFsmUwIT//98QAAAwAAIuEAAAANQZ4eRRUsbwAA\n",
       "AwACXwAAAAwBnj10Rf8AAAMAAwIAAAAMAZ4/akX/AAADAAMDAAAAFUGaJEmoQWyZTAhP//3xAAAD\n",
       "AAAi4AAAAA1BnkJFFSxvAAADAAJfAAAADAGeYXRF/wAAAwADAwAAAAwBnmNqRf8AAAMAAwIAAAAV\n",
       "QZpoSahBbJlMCE///fEAAAMAACLgAAAADUGehkUVLG8AAAMAAl8AAAAMAZ6ldEX/AAADAAMCAAAA\n",
       "DAGep2pF/wAAAwADAwAAABVBmqxJqEFsmUwIT//98QAAAwAAIuAAAAANQZ7KRRUsbwAAAwACXwAA\n",
       "AAwBnul0Rf8AAAMAAwMAAAAMAZ7rakX/AAADAAMDAAAAFUGa8EmoQWyZTAhH//3hAAADAAA3oQAA\n",
       "AA1Bnw5FFSxvAAADAAJeAAAADAGfLXRF/wAAAwADAgAAAAwBny9qRf8AAAMAAwMAAAATQZs0SahB\n",
       "bJlMCN/6WAAAAwABqwAAAA1Bn1JFFSxvAAADAAJeAAAADAGfcXRF/wAAAwADAwAAAAwBn3NqRf8A\n",
       "AAMAAwMAAAATQZt1SahBbJlMCL/6WAAAAwABqwAAFeltb292AAAAbG12aGQAAAAAAAAAAAAAAAAA\n",
       "AAPoAAAH0AABAAABAAAAAAAAAAAAAAAAAQAAAAAAAAAAAAAAAAAAAAEAAAAAAAAAAAAAAAAAAEAA\n",
       "AAAAAAAAAAAAAAAAAAAAAAAAAAAAAAAAAAAAAAACAAAVE3RyYWsAAABcdGtoZAAAAAMAAAAAAAAA\n",
       "AAAAAAEAAAAAAAAH0AAAAAAAAAAAAAAAAAAAAAAAAQAAAAAAAAAAAAAAAAAAAAEAAAAAAAAAAAAA\n",
       "AAAAAEAAAAABsAAAAbAAAAAAACRlZHRzAAAAHGVsc3QAAAAAAAAAAQAAB9AAAACAAAEAAAAAFItt\n",
       "ZGlhAAAAIG1kaGQAAAAAAAAAAAAAAAAAADIAAABkAFXEAAAAAAAtaGRscgAAAAAAAAAAdmlkZQAA\n",
       "AAAAAAAAAAAAAFZpZGVvSGFuZGxlcgAAABQ2bWluZgAAABR2bWhkAAAAAQAAAAAAAAAAAAAAJGRp\n",
       "bmYAAAAcZHJlZgAAAAAAAAABAAAADHVybCAAAAABAAAT9nN0YmwAAACyc3RzZAAAAAAAAAABAAAA\n",
       "omF2YzEAAAAAAAAAAQAAAAAAAAAAAAAAAAAAAAABsAGwAEgAAABIAAAAAAAAAAEAAAAAAAAAAAAA\n",
       "AAAAAAAAAAAAAAAAAAAAAAAAAAAAAAAY//8AAAAwYXZjQwFkACD/4QAXZ2QAIKzZQbDehAAAAwAE\n",
       "AAAGQDxgxlgBAAZo6+PLIsAAAAAcdXVpZGtoQPJfJE/FujmlG88DI/MAAAAAAAAAGHN0dHMAAAAA\n",
       "AAAAAQAAAZAAAABAAAAAGHN0c3MAAAAAAAAAAgAAAAEAAAD7AAAMiGN0dHMAAAAAAAABjwAAAAEA\n",
       "AACAAAAAAQAAAUAAAAABAAAAgAAAAAEAAAAAAAAAAQAAAEAAAAABAAABQAAAAAEAAACAAAAAAQAA\n",
       "AAAAAAABAAAAQAAAAAEAAAFAAAAAAQAAAIAAAAABAAAAAAAAAAEAAABAAAAAAQAAAUAAAAABAAAA\n",
       "gAAAAAEAAAAAAAAAAQAAAEAAAAABAAABQAAAAAEAAACAAAAAAQAAAAAAAAABAAAAQAAAAAEAAAFA\n",
       "AAAAAQAAAIAAAAABAAAAAAAAAAEAAABAAAAAAQAAAUAAAAABAAAAgAAAAAEAAAAAAAAAAQAAAEAA\n",
       "AAABAAABQAAAAAEAAACAAAAAAQAAAAAAAAABAAAAQAAAAAEAAAFAAAAAAQAAAIAAAAABAAAAAAAA\n",
       "AAEAAABAAAAAAQAAAUAAAAABAAAAgAAAAAEAAAAAAAAAAQAAAEAAAAABAAABQAAAAAEAAACAAAAA\n",
       "AQAAAAAAAAABAAAAQAAAAAEAAAFAAAAAAQAAAIAAAAABAAAAAAAAAAEAAABAAAAAAQAAAUAAAAAB\n",
       "AAAAgAAAAAEAAAAAAAAAAQAAAEAAAAABAAABQAAAAAEAAACAAAAAAQAAAAAAAAABAAAAQAAAAAEA\n",
       "AAFAAAAAAQAAAIAAAAABAAAAAAAAAAEAAABAAAAAAQAAAUAAAAABAAAAgAAAAAEAAAAAAAAAAQAA\n",
       "AEAAAAABAAABQAAAAAEAAACAAAAAAQAAAAAAAAABAAAAQAAAAAEAAAFAAAAAAQAAAIAAAAABAAAA\n",
       "AAAAAAEAAABAAAAAAQAAAUAAAAABAAAAgAAAAAEAAAAAAAAAAQAAAEAAAAABAAABQAAAAAEAAACA\n",
       "AAAAAQAAAAAAAAABAAAAQAAAAAEAAAFAAAAAAQAAAIAAAAABAAAAAAAAAAEAAABAAAAAAQAAAUAA\n",
       "AAABAAAAgAAAAAEAAAAAAAAAAQAAAEAAAAABAAABQAAAAAEAAACAAAAAAQAAAAAAAAABAAAAQAAA\n",
       "AAEAAAFAAAAAAQAAAIAAAAABAAAAAAAAAAEAAABAAAAAAQAAAUAAAAABAAAAgAAAAAEAAAAAAAAA\n",
       "AQAAAEAAAAABAAABQAAAAAEAAACAAAAAAQAAAAAAAAABAAAAQAAAAAEAAAFAAAAAAQAAAIAAAAAB\n",
       "AAAAAAAAAAEAAABAAAAAAQAAAUAAAAABAAAAgAAAAAEAAAAAAAAAAQAAAEAAAAABAAABQAAAAAEA\n",
       "AACAAAAAAQAAAAAAAAABAAAAQAAAAAEAAAFAAAAAAQAAAIAAAAABAAAAAAAAAAEAAABAAAAAAQAA\n",
       "AUAAAAABAAAAgAAAAAEAAAAAAAAAAQAAAEAAAAABAAABQAAAAAEAAACAAAAAAQAAAAAAAAABAAAA\n",
       "QAAAAAEAAAFAAAAAAQAAAIAAAAABAAAAAAAAAAEAAABAAAAAAQAAAUAAAAABAAAAgAAAAAEAAAAA\n",
       "AAAAAQAAAEAAAAABAAABQAAAAAEAAACAAAAAAQAAAAAAAAABAAAAQAAAAAEAAAFAAAAAAQAAAIAA\n",
       "AAABAAAAAAAAAAEAAABAAAAAAQAAAUAAAAABAAAAgAAAAAEAAAAAAAAAAQAAAEAAAAABAAABQAAA\n",
       "AAEAAACAAAAAAQAAAAAAAAABAAAAQAAAAAEAAAFAAAAAAQAAAIAAAAABAAAAAAAAAAEAAABAAAAA\n",
       "AQAAAUAAAAABAAAAgAAAAAEAAAAAAAAAAQAAAEAAAAABAAABQAAAAAEAAACAAAAAAQAAAAAAAAAB\n",
       "AAAAQAAAAAEAAAFAAAAAAQAAAIAAAAABAAAAAAAAAAEAAABAAAAAAQAAAUAAAAABAAAAgAAAAAEA\n",
       "AAAAAAAAAQAAAEAAAAABAAABQAAAAAEAAACAAAAAAQAAAAAAAAABAAAAQAAAAAEAAAFAAAAAAQAA\n",
       "AIAAAAABAAAAAAAAAAEAAABAAAAAAQAAAUAAAAABAAAAgAAAAAEAAAAAAAAAAQAAAEAAAAABAAAB\n",
       "QAAAAAEAAACAAAAAAQAAAAAAAAABAAAAQAAAAAEAAAFAAAAAAQAAAIAAAAABAAAAAAAAAAEAAABA\n",
       "AAAAAQAAAUAAAAABAAAAgAAAAAEAAAAAAAAAAQAAAEAAAAABAAABQAAAAAEAAACAAAAAAQAAAAAA\n",
       "AAABAAAAQAAAAAEAAAFAAAAAAQAAAIAAAAABAAAAAAAAAAEAAABAAAAAAQAAAUAAAAABAAAAgAAA\n",
       "AAEAAAAAAAAAAQAAAEAAAAABAAABQAAAAAEAAACAAAAAAQAAAAAAAAABAAAAQAAAAAEAAAFAAAAA\n",
       "AQAAAIAAAAABAAAAAAAAAAEAAABAAAAAAQAAAUAAAAABAAAAgAAAAAEAAAAAAAAAAQAAAEAAAAAB\n",
       "AAABQAAAAAEAAACAAAAAAQAAAAAAAAABAAAAQAAAAAEAAAFAAAAAAQAAAIAAAAABAAAAAAAAAAEA\n",
       "AABAAAAAAQAAAUAAAAABAAAAgAAAAAEAAAAAAAAAAQAAAEAAAAABAAABQAAAAAEAAACAAAAAAQAA\n",
       "AAAAAAABAAAAQAAAAAEAAAFAAAAAAQAAAIAAAAABAAAAAAAAAAEAAABAAAAAAQAAAUAAAAABAAAA\n",
       "gAAAAAEAAAAAAAAAAQAAAEAAAAABAAABQAAAAAEAAACAAAAAAQAAAAAAAAABAAAAQAAAAAIAAACA\n",
       "AAAAAQAAAUAAAAABAAAAgAAAAAEAAAAAAAAAAQAAAEAAAAABAAABQAAAAAEAAACAAAAAAQAAAAAA\n",
       "AAABAAAAQAAAAAEAAAFAAAAAAQAAAIAAAAABAAAAAAAAAAEAAABAAAAAAQAAAUAAAAABAAAAgAAA\n",
       "AAEAAAAAAAAAAQAAAEAAAAABAAABQAAAAAEAAACAAAAAAQAAAAAAAAABAAAAQAAAAAEAAAFAAAAA\n",
       "AQAAAIAAAAABAAAAAAAAAAEAAABAAAAAAQAAAUAAAAABAAAAgAAAAAEAAAAAAAAAAQAAAEAAAAAB\n",
       "AAABQAAAAAEAAACAAAAAAQAAAAAAAAABAAAAQAAAAAEAAAFAAAAAAQAAAIAAAAABAAAAAAAAAAEA\n",
       "AABAAAAAAQAAAUAAAAABAAAAgAAAAAEAAAAAAAAAAQAAAEAAAAABAAABQAAAAAEAAACAAAAAAQAA\n",
       "AAAAAAABAAAAQAAAAAEAAAFAAAAAAQAAAIAAAAABAAAAAAAAAAEAAABAAAAAAQAAAUAAAAABAAAA\n",
       "gAAAAAEAAAAAAAAAAQAAAEAAAAABAAABQAAAAAEAAACAAAAAAQAAAAAAAAABAAAAQAAAAAEAAAFA\n",
       "AAAAAQAAAIAAAAABAAAAAAAAAAEAAABAAAAAAQAAAUAAAAABAAAAgAAAAAEAAAAAAAAAAQAAAEAA\n",
       "AAABAAABQAAAAAEAAACAAAAAAQAAAAAAAAABAAAAQAAAAAEAAAFAAAAAAQAAAIAAAAABAAAAAAAA\n",
       "AAEAAABAAAAAAQAAAUAAAAABAAAAgAAAAAEAAAAAAAAAAQAAAEAAAAABAAABQAAAAAEAAACAAAAA\n",
       "AQAAAAAAAAABAAAAQAAAAAEAAAFAAAAAAQAAAIAAAAABAAAAAAAAAAEAAABAAAAAAQAAAUAAAAAB\n",
       "AAAAgAAAAAEAAAAAAAAAAQAAAEAAAAABAAABQAAAAAEAAACAAAAAAQAAAAAAAAABAAAAQAAAAAEA\n",
       "AAFAAAAAAQAAAIAAAAABAAAAAAAAAAEAAABAAAAAAQAAAUAAAAABAAAAgAAAAAEAAAAAAAAAAQAA\n",
       "AEAAAAABAAABQAAAAAEAAACAAAAAAQAAAAAAAAABAAAAQAAAAAEAAAFAAAAAAQAAAIAAAAABAAAA\n",
       "AAAAAAEAAABAAAAAAQAAAUAAAAABAAAAgAAAAAEAAAAAAAAAAQAAAEAAAAABAAABQAAAAAEAAACA\n",
       "AAAAAQAAAAAAAAABAAAAQAAAAAEAAAFAAAAAAQAAAIAAAAABAAAAAAAAAAEAAABAAAAAAQAAAUAA\n",
       "AAABAAAAgAAAAAEAAAAAAAAAAQAAAEAAAAABAAABQAAAAAEAAACAAAAAAQAAAAAAAAABAAAAQAAA\n",
       "AAEAAAFAAAAAAQAAAIAAAAABAAAAAAAAAAEAAABAAAAAAQAAAUAAAAABAAAAgAAAAAEAAAAAAAAA\n",
       "AQAAAEAAAAABAAABQAAAAAEAAACAAAAAAQAAAAAAAAABAAAAQAAAAAEAAAFAAAAAAQAAAIAAAAAB\n",
       "AAAAAAAAAAEAAABAAAAAAQAAAUAAAAABAAAAgAAAAAEAAAAAAAAAAQAAAEAAAAABAAAAgAAAABxz\n",
       "dHNjAAAAAAAAAAEAAAABAAABkAAAAAEAAAZUc3RzegAAAAAAAAAAAAABkAAAEn0AAABpAAAAJgAA\n",
       "ABcAAAAVAAAAKgAAABkAAAAVAAAAEgAAABkAAAAXAAAAEAAAABAAAAAZAAAAFwAAABAAAAAQAAAA\n",
       "GQAAABcAAAAQAAAAEAAAABkAAAAXAAAAEAAAABAAAAAZAAAAFwAAABAAAAAQAAAAGQAAABcAAAAQ\n",
       "AAAAEAAAABkAAAAXAAAAEAAAABAAAAAZAAAAFwAAABAAAAAQAAAAGQAAABcAAAAQAAAAEAAAABkA\n",
       "AAAXAAAAEAAAABAAAAAZAAAAFwAAABAAAAAQAAAAGQAAABcAAAAQAAAAEAAAABkAAAAXAAAAEAAA\n",
       "ABAAAAAZAAAAFwAAABAAAAAQAAAAGQAAABcAAAAQAAAAEAAAABkAAAAXAAAAEAAAABAAAAAZAAAA\n",
       "FwAAABAAAAAQAAAAGQAAABcAAAAQAAAAEAAAABkAAAAXAAAAEAAAABAAAAAZAAAAFwAAABAAAAAQ\n",
       "AAAAGQAAABcAAAAQAAAAEAAAABkAAAAXAAAAEAAAABAAAAAZAAAAFwAAABAAAAAQAAAAGQAAABcA\n",
       "AAAQAAAAEAAAABkAAAAXAAAAEAAAABAAAAAZAAAAFwAAABAAAAAQAAAAGQAAABcAAAAQAAAAEAAA\n",
       "ABkAAAAXAAAAEAAAABAAAAAZAAAAFwAAABAAAAAQAAAAGQAAABcAAAAQAAAAEAAAABkAAAAXAAAA\n",
       "EAAAABAAAAAZAAAAFwAAABAAAAAQAAAAGQAAABcAAAAQAAAAEAAAABkAAAAXAAAAEAAAABAAAAAZ\n",
       "AAAAFwAAABAAAAAQAAAAGQAAABcAAAAQAAAAEAAAABkAAAAXAAAAEAAAABAAAAAZAAAAFwAAABAA\n",
       "AAAQAAAAGQAAABcAAAAQAAAAEAAAABkAAAAXAAAAEAAAABAAAAAZAAAAFwAAABAAAAAQAAAAGQAA\n",
       "ABcAAAAQAAAAEAAAABkAAAAXAAAAEAAAABAAAAAZAAAAFwAAABAAAAAQAAAAGQAAABcAAAAQAAAA\n",
       "EAAAABkAAAAXAAAAEAAAABAAAAAZAAAAFwAAABAAAAAQAAAAGQAAABcAAAAQAAAAEAAAABkAAAAX\n",
       "AAAAEAAAABAAAAAZAAAAFwAAABAAAAAQAAAAGQAAABcAAAAQAAAAEAAAABkAAAAXAAAAEAAAABAA\n",
       "AAAZAAAAFwAAABAAAAAQAAAAGQAAABcAAAAQAAAAEAAAABkAAAAXAAAAEAAAABAAAAAZAAAAFwAA\n",
       "ABAAAAAQAAAAGQAAABcAAAAQAAAAEAAAABkAAAAXAAAAEAAAABAAAAAZAAAAFwAAABAAAAAQAAAA\n",
       "GQAAABcAAAAQAAAAEAAAABcAABGGAAAAUgAAABoAAAAfAAAAGQAAAB8AAAAUAAAAEwAAABIAAAAZ\n",
       "AAAAEQAAABAAAAAQAAAAGQAAABEAAAAQAAAAEAAAABkAAAARAAAAEAAAABAAAAAZAAAAEQAAABAA\n",
       "AAAQAAAAGQAAABEAAAAQAAAAEAAAABkAAAARAAAAEAAAABAAAAAZAAAAEQAAABAAAAAQAAAAGQAA\n",
       "ABEAAAAQAAAAEAAAABkAAAARAAAAEAAAABAAAAAZAAAAEQAAABAAAAAQAAAAGQAAABEAAAAQAAAA\n",
       "EAAAABkAAAARAAAAEAAAABAAAAAZAAAAEQAAABAAAAAQAAAAGQAAABEAAAAQAAAAEAAAABkAAAAR\n",
       "AAAAEAAAABAAAAAZAAAAEQAAABAAAAAQAAAAGQAAABEAAAAQAAAAEAAAABkAAAARAAAAEAAAABAA\n",
       "AAAZAAAAEQAAABAAAAAQAAAAGQAAABEAAAAQAAAAEAAAABkAAAARAAAAEAAAABAAAAAZAAAAEQAA\n",
       "ABAAAAAQAAAAGQAAABEAAAAQAAAAEAAAABkAAAARAAAAEAAAABAAAAAZAAAAEQAAABAAAAAQAAAA\n",
       "GQAAABEAAAAQAAAAEAAAABkAAAARAAAAEAAAABAAAAAZAAAAEQAAABAAAAAQAAAAGQAAABEAAAAQ\n",
       "AAAAEAAAABkAAAARAAAAEAAAABAAAAAZAAAAEQAAABAAAAAQAAAAGQAAABEAAAAQAAAAEAAAABkA\n",
       "AAARAAAAEAAAABAAAAAZAAAAEQAAABAAAAAQAAAAFwAAABEAAAAQAAAAEAAAABcAAAAUc3RjbwAA\n",
       "AAAAAAABAAAALAAAAGJ1ZHRhAAAAWm1ldGEAAAAAAAAAIWhkbHIAAAAAAAAAAG1kaXJhcHBsAAAA\n",
       "AAAAAAAAAAAALWlsc3QAAAAlqXRvbwAAAB1kYXRhAAAAAQAAAABMYXZmNTguMTIuMTAw\n",
       "\">\n",
       "  Your browser does not support the video tag.\n",
       "</video>"
      ],
      "text/plain": [
       "<IPython.core.display.HTML object>"
      ]
     },
     "execution_count": 7,
     "metadata": {},
     "output_type": "execute_result"
    }
   ],
   "source": [
    "with pm.Model() as logistic_model:\n",
    "    # Again define Bayesian logistic regression model on the following features: sex, age, age_squared, educ, hours\n",
    "    \n",
    "    #### YOUR CODE HERE ####\n",
    "        \n",
    "    data['age_squard'] = data['age'] * data['age']\n",
    "    data['sex[T. Male]'] = 1*(data['sex']==' Male')\n",
    "    \n",
    "    # from pymc3.glm.families import Binomial\n",
    "    # pm.glm.GLM.from_formula('income_more_50K ~ sex + age + age_squard + educ + hours', data, family=Binomial())\n",
    "    \n",
    "    alpha = pm.Normal('bias', mu=0, sd=100)\n",
    "    beta1 = pm.Normal('sex[T. Male]', mu=0, sd=100)\n",
    "    beta2 = pm.Normal('age', mu=0, sd=100)\n",
    "    beta3 = pm.Normal('age_squard', mu=0, sd=100)\n",
    "    beta4 = pm.Normal('educ', mu=0, sd=100)\n",
    "    beta5 = pm.Normal('hours', mu=0, sd=100)\n",
    "    \n",
    "    # pm.invlogit()\n",
    "    # logit_p =  alpha + beta1*data['sex[T. Male]']+beta2*data['age']+ \\\n",
    "    #         beta3*data['age_squard']+beta4*data['educ']+beta5*data['hours']\n",
    "    # pm.Bernoulli('truth', logit_p=logit_p, observed=data['income_more_50K'])\n",
    "    \n",
    "    p =  pm.invlogit(alpha + beta1*data['sex[T. Male]']+beta2*data['age']\n",
    "                     +beta3*data['age_squard']+beta4*data['educ']+beta5*data['hours'])\n",
    "    pm.Bernoulli('truth', p=p, observed=data['income_more_50K'])\n",
    "    \n",
    "    map_estimate = pm.find_MAP()\n",
    "    \n",
    "    # trace = pm.sample(draws=4000, init='adapt_diag')\n",
    "    \n",
    "    ### END OF YOUR CODE ###\n",
    "    # step = pm.Metropolis()\n",
    "    step = pm.NUTS()\n",
    "    iter_sample = pm.iter_sample(2 * samples, step, start=map_estimate)\n",
    "anim = animation.FuncAnimation(fig, animate, init_func=init,\n",
    "                               frames=samples, interval=5, blit=True)\n",
    "HTML(anim.to_html5_video())\n",
    "# Note that generating the video may take a while."
   ]
  },
  {
   "cell_type": "code",
   "execution_count": null,
   "metadata": {
    "collapsed": true
   },
   "outputs": [],
   "source": []
  }
 ],
 "metadata": {
  "kernelspec": {
   "display_name": "Python 3",
   "language": "python",
   "name": "python3"
  },
  "language_info": {
   "codemirror_mode": {
    "name": "ipython",
    "version": 3
   },
   "file_extension": ".py",
   "mimetype": "text/x-python",
   "name": "python",
   "nbconvert_exporter": "python",
   "pygments_lexer": "ipython3",
   "version": "3.6.2"
  }
 },
 "nbformat": 4,
 "nbformat_minor": 2
}
